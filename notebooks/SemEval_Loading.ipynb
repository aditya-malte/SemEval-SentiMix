{
  "nbformat": 4,
  "nbformat_minor": 0,
  "metadata": {
    "colab": {
      "name": "SemEval_Loading.ipynb",
      "provenance": [],
      "collapsed_sections": [],
      "toc_visible": true,
      "authorship_tag": "ABX9TyNOB5xwQhV0lESpNK1xDxVz",
      "include_colab_link": true
    },
    "kernelspec": {
      "name": "python3",
      "display_name": "Python 3"
    },
    "accelerator": "GPU"
  },
  "cells": [
    {
      "cell_type": "markdown",
      "metadata": {
        "id": "view-in-github",
        "colab_type": "text"
      },
      "source": [
        "<a href=\"https://colab.research.google.com/github/aditya-malte/SemEval/blob/master/notebooks/SemEval_Loading.ipynb\" target=\"_parent\"><img src=\"https://colab.research.google.com/assets/colab-badge.svg\" alt=\"Open In Colab\"/></a>"
      ]
    },
    {
      "cell_type": "markdown",
      "metadata": {
        "id": "uH9QAi6CrX1N",
        "colab_type": "text"
      },
      "source": [
        "##Install and Import Dependencies"
      ]
    },
    {
      "cell_type": "code",
      "metadata": {
        "id": "vPSlo2QcYrkp",
        "colab_type": "code",
        "outputId": "87bb3927-8178-4c18-bd4b-7991701b7294",
        "colab": {
          "base_uri": "https://localhost:8080/",
          "height": 35
        }
      },
      "source": [
        "!pip install emoji"
      ],
      "execution_count": 1,
      "outputs": [
        {
          "output_type": "stream",
          "text": [
            "Requirement already satisfied: emoji in /usr/local/lib/python3.6/dist-packages (0.5.4)\n"
          ],
          "name": "stdout"
        }
      ]
    },
    {
      "cell_type": "code",
      "metadata": {
        "id": "yTHmuDkwrtAr",
        "colab_type": "code",
        "colab": {}
      },
      "source": [
        "#import fairseq\n",
        "import pandas as pd"
      ],
      "execution_count": 0,
      "outputs": []
    },
    {
      "cell_type": "markdown",
      "metadata": {
        "id": "MSNCvJGqlexg",
        "colab_type": "text"
      },
      "source": [
        "## Get URL function"
      ]
    },
    {
      "cell_type": "code",
      "metadata": {
        "id": "_gfdRATaleb4",
        "colab_type": "code",
        "colab": {}
      },
      "source": [
        "def getUrl(text):\n",
        "  processed_text = text[:]\n",
        "  url = None\n",
        "  processed_text, _, url = text.partition(\"…\")\n",
        "  if(url!=''):\n",
        "    url = \"\".join(url.split())\n",
        "    url = \"https://t.co/\" + url.rsplit('/', 1)[-1]\n",
        "  else:\n",
        "    url=None\n",
        "  return (processed_text, url)"
      ],
      "execution_count": 0,
      "outputs": []
    },
    {
      "cell_type": "markdown",
      "metadata": {
        "id": "jJey27GOqZfS",
        "colab_type": "text"
      },
      "source": [
        "##Load Data"
      ]
    },
    {
      "cell_type": "code",
      "metadata": {
        "id": "wmSp3yj8qcVR",
        "colab_type": "code",
        "outputId": "037214c1-aad8-4374-81f6-d227362a5edb",
        "colab": {
          "base_uri": "https://localhost:8080/",
          "height": 69
        }
      },
      "source": [
        "from google.colab import drive\n",
        "drive.mount('/gdrive', force_remount=True)\n",
        "!ln -s \"/gdrive/My Drive/SemEval_weights_data\" \"/content/\"\n",
        "drive_path = \"/content/SemEval_weights_data/data/\"\n",
        "%cd {drive_path}"
      ],
      "execution_count": 4,
      "outputs": [
        {
          "output_type": "stream",
          "text": [
            "Mounted at /gdrive\n",
            "ln: failed to create symbolic link '/content/SemEval_weights_data': File exists\n",
            "/gdrive/My Drive/SemEval_weights_data/data\n"
          ],
          "name": "stdout"
        }
      ]
    },
    {
      "cell_type": "code",
      "metadata": {
        "id": "nryRzNB_rDPX",
        "colab_type": "code",
        "outputId": "63732d36-2088-489a-9ac8-afaf98b5fd8c",
        "colab": {
          "base_uri": "https://localhost:8080/",
          "height": 208
        }
      },
      "source": [
        "!ls"
      ],
      "execution_count": 5,
      "outputs": [
        {
          "output_type": "stream",
          "text": [
            " cached_dev_xlm-roberta-base_128_sentimix     processed_val.csv\n",
            " cached_train_xlm-roberta-base_128_sentimix   processed_val.gsheet\n",
            " dev_3k_split_conll.txt\t\t\t      train_14k_split_conll.txt\n",
            " dev.gsheet\t\t\t\t      train.gsheet\n",
            " dev.tsv\t\t\t\t     'train_scraped (1).gsheet'\n",
            " loaded_train.csv\t\t\t      train_scraped.csv\n",
            " loaded_train.gsheet\t\t\t      train_scraped.gsheet\n",
            " loaded_val.csv\t\t\t\t      train.tsv\n",
            "'processed_train (1).gsheet'\t\t      valid_scraped.csv\n",
            " processed_train.csv\t\t\t      val.tsv\n",
            " processed_train.gsheet\n"
          ],
          "name": "stdout"
        }
      ]
    },
    {
      "cell_type": "code",
      "metadata": {
        "id": "TvTJuEyHrzuV",
        "colab_type": "code",
        "colab": {}
      },
      "source": [
        "TRAIN_FILE = drive_path+\"train_14k_split_conll.txt\"\n",
        "VAL_FILE = drive_path+\"dev_3k_split_conll.txt\" "
      ],
      "execution_count": 0,
      "outputs": []
    },
    {
      "cell_type": "code",
      "metadata": {
        "id": "EK5FTY2yN1LY",
        "colab_type": "code",
        "outputId": "9323630c-8bf0-4778-8c2c-06ff59974fb6",
        "colab": {
          "base_uri": "https://localhost:8080/",
          "height": 35
        }
      },
      "source": [
        "print(TRAIN_FILE)"
      ],
      "execution_count": 7,
      "outputs": [
        {
          "output_type": "stream",
          "text": [
            "/content/SemEval_weights_data/data/train_14k_split_conll.txt\n"
          ],
          "name": "stdout"
        }
      ]
    },
    {
      "cell_type": "code",
      "metadata": {
        "id": "-h5FcV-wsKuG",
        "colab_type": "code",
        "colab": {}
      },
      "source": [
        "raw_train_data = open(TRAIN_FILE)\n",
        "train_data = pd.DataFrame(columns=['uid', 'text', 'lang_labels', 'url', 'sentiment'])\n",
        "buffer = \"\"\n",
        "lang_label_buffer = \"\"\n",
        "sentiment = None\n",
        "uid = None\n",
        "for i, row in enumerate(raw_train_data):\n",
        "  if(row == \"\\n\"):\n",
        "    continue\n",
        "  try:\n",
        "    row_split = row.split(\"\\t\")\n",
        "    if(row_split[0]==\"meta\"):\n",
        "      if(sentiment == None):\n",
        "        sentiment = row_split[2]\n",
        "        uid = row_split[1]\n",
        "      else:\n",
        "        train_data = train_data.append({\"uid\":uid.strip(), \"text\":buffer.strip(), \"lang_labels\":lang_label_buffer.strip(), \"sentiment\":sentiment.strip()}, ignore_index = True)\n",
        "        buffer = \"\"\n",
        "        lang_label_buffer = \"\"\n",
        "        sentiment = row_split[2]\n",
        "        uid = row_split[1]\n",
        "    else:\n",
        "      buffer = buffer + \" \" + row_split[0]\n",
        "      lang_label_buffer = lang_label_buffer + \" \" +row_split[1].strip()\n",
        "  except Exception as e:\n",
        "    print(\"Exception:\",e, \",Row\",i,\":\",repr(row))\n",
        "    raise\n",
        "train_data = train_data.append({\"uid\":uid.strip(), \"text\":buffer.strip(), \"lang_labels\":lang_label_buffer.strip(), \"sentiment\":sentiment.strip()}, ignore_index = True)"
      ],
      "execution_count": 0,
      "outputs": []
    },
    {
      "cell_type": "code",
      "metadata": {
        "id": "M9t6Tnue_9kV",
        "colab_type": "code",
        "colab": {}
      },
      "source": [
        "def solveGaps(text): #convert @<space>xyz to @xyz and abc<space>_<space>xyz to abc_xyz\n",
        "  return text.replace(\"@ \", \"@\").replace(' _ ', '_')"
      ],
      "execution_count": 0,
      "outputs": []
    },
    {
      "cell_type": "code",
      "metadata": {
        "id": "ThSMZkHeAhma",
        "colab_type": "code",
        "outputId": "b0ab1fdb-440a-4368-a8b0-d8a68adddff9",
        "colab": {
          "base_uri": "https://localhost:8080/",
          "height": 52
        }
      },
      "source": [
        "print(\"@ Nehr _ who @ TypoMantri @ anjanaomkashyap\")\n",
        "print(solveGaps(\"@ Nehr _ who @ TypoMantri @ anjanaomkashyap\"))"
      ],
      "execution_count": 10,
      "outputs": [
        {
          "output_type": "stream",
          "text": [
            "@ Nehr _ who @ TypoMantri @ anjanaomkashyap\n",
            "@Nehr_who @TypoMantri @anjanaomkashyap\n"
          ],
          "name": "stdout"
        }
      ]
    },
    {
      "cell_type": "code",
      "metadata": {
        "id": "b3x9ViawtxSS",
        "colab_type": "code",
        "outputId": "51adb0af-e27f-4a08-e006-74e5a7667ce7",
        "colab": {
          "base_uri": "https://localhost:8080/",
          "height": 202
        }
      },
      "source": [
        "train_data.head()"
      ],
      "execution_count": 11,
      "outputs": [
        {
          "output_type": "execute_result",
          "data": {
            "text/html": [
              "<div>\n",
              "<style scoped>\n",
              "    .dataframe tbody tr th:only-of-type {\n",
              "        vertical-align: middle;\n",
              "    }\n",
              "\n",
              "    .dataframe tbody tr th {\n",
              "        vertical-align: top;\n",
              "    }\n",
              "\n",
              "    .dataframe thead th {\n",
              "        text-align: right;\n",
              "    }\n",
              "</style>\n",
              "<table border=\"1\" class=\"dataframe\">\n",
              "  <thead>\n",
              "    <tr style=\"text-align: right;\">\n",
              "      <th></th>\n",
              "      <th>uid</th>\n",
              "      <th>text</th>\n",
              "      <th>lang_labels</th>\n",
              "      <th>url</th>\n",
              "      <th>sentiment</th>\n",
              "    </tr>\n",
              "  </thead>\n",
              "  <tbody>\n",
              "    <tr>\n",
              "      <th>0</th>\n",
              "      <td>4330</td>\n",
              "      <td>nen á vist bolest vztek smutek zmatek osam ě l...</td>\n",
              "      <td>Eng O Eng Eng Eng Eng Hin Hin O Eng Eng O Hin ...</td>\n",
              "      <td>NaN</td>\n",
              "      <td>neutral</td>\n",
              "    </tr>\n",
              "    <tr>\n",
              "      <th>1</th>\n",
              "      <td>41616</td>\n",
              "      <td>@ nehantics Haan yaar neha 😔😔 kab karega woh p...</td>\n",
              "      <td>O Hin Hin Hin Hin O Hin Hin Hin Hin EMT Hin Hi...</td>\n",
              "      <td>NaN</td>\n",
              "      <td>neutral</td>\n",
              "    </tr>\n",
              "    <tr>\n",
              "      <th>2</th>\n",
              "      <td>6648</td>\n",
              "      <td>@ RahulGandhi television media congress ke liy...</td>\n",
              "      <td>O Eng Eng Eng Eng Hin Hin Hin Hin O Hin Hin Hi...</td>\n",
              "      <td>NaN</td>\n",
              "      <td>negative</td>\n",
              "    </tr>\n",
              "    <tr>\n",
              "      <th>3</th>\n",
              "      <td>2512</td>\n",
              "      <td>@ AmitShah @ narendramodi All India me nrc lag...</td>\n",
              "      <td>O Hin O Hin Hin Hin Eng Hin Hin Hin Eng Hin Hi...</td>\n",
              "      <td>NaN</td>\n",
              "      <td>positive</td>\n",
              "    </tr>\n",
              "    <tr>\n",
              "      <th>4</th>\n",
              "      <td>610</td>\n",
              "      <td>@ Nehr _ who @ TypoMantri @ anjanaomkashyap Pa...</td>\n",
              "      <td>O Eng O Eng O Hin O Hin Hin Hin Hin O Eng Eng ...</td>\n",
              "      <td>NaN</td>\n",
              "      <td>neutral</td>\n",
              "    </tr>\n",
              "  </tbody>\n",
              "</table>\n",
              "</div>"
            ],
            "text/plain": [
              "     uid                                               text  ...  url sentiment\n",
              "0   4330  nen á vist bolest vztek smutek zmatek osam ě l...  ...  NaN   neutral\n",
              "1  41616  @ nehantics Haan yaar neha 😔😔 kab karega woh p...  ...  NaN   neutral\n",
              "2   6648  @ RahulGandhi television media congress ke liy...  ...  NaN  negative\n",
              "3   2512  @ AmitShah @ narendramodi All India me nrc lag...  ...  NaN  positive\n",
              "4    610  @ Nehr _ who @ TypoMantri @ anjanaomkashyap Pa...  ...  NaN   neutral\n",
              "\n",
              "[5 rows x 5 columns]"
            ]
          },
          "metadata": {
            "tags": []
          },
          "execution_count": 11
        }
      ]
    },
    {
      "cell_type": "code",
      "metadata": {
        "id": "p8Ch5AQGAt7k",
        "colab_type": "code",
        "colab": {}
      },
      "source": [
        "train_data[\"text\"] = train_data[\"text\"].apply(lambda x: solveGaps(x))"
      ],
      "execution_count": 0,
      "outputs": []
    },
    {
      "cell_type": "markdown",
      "metadata": {
        "id": "B7ds4akahQNp",
        "colab_type": "text"
      },
      "source": [
        "## Save File"
      ]
    },
    {
      "cell_type": "code",
      "metadata": {
        "id": "AgnbBrYM1wQe",
        "colab_type": "code",
        "colab": {}
      },
      "source": [
        "train_data[[\"text\",\"url\"]] = train_data.from_records(train_data[\"text\"].apply(lambda x: getUrl(x)), columns=[\"text\",\"url\"])\n",
        "train_data.to_csv(drive_path+\"loaded_train.csv\", index=False)"
      ],
      "execution_count": 0,
      "outputs": []
    },
    {
      "cell_type": "markdown",
      "metadata": {
        "id": "lPK-bE3ThTN_",
        "colab_type": "text"
      },
      "source": [
        "## Clear memory"
      ]
    },
    {
      "cell_type": "code",
      "metadata": {
        "id": "7IpEW87H7A_L",
        "colab_type": "code",
        "colab": {}
      },
      "source": [
        "train_data = None\n",
        "raw_train_data = None"
      ],
      "execution_count": 0,
      "outputs": []
    },
    {
      "cell_type": "markdown",
      "metadata": {
        "id": "fadMUVgH6-nd",
        "colab_type": "text"
      },
      "source": [
        "##Same steps for Validation data"
      ]
    },
    {
      "cell_type": "code",
      "metadata": {
        "colab_type": "code",
        "id": "4dnqv9V6wzpJ",
        "colab": {}
      },
      "source": [
        "raw_val_data = open(VAL_FILE)\n",
        "val_data = pd.DataFrame(columns=['uid', 'text', 'lang_labels', 'url', 'sentiment'])\n",
        "buffer = \"\"\n",
        "lang_label_buffer = \"\"\n",
        "sentiment = None\n",
        "uid = None\n",
        "for i, row in enumerate(raw_val_data):\n",
        "  if(row == \"\\n\"):\n",
        "    continue\n",
        "  try:\n",
        "    row_split = row.split(\"\\t\")\n",
        "    if(row_split[0]==\"meta\"):\n",
        "      if(sentiment == None):\n",
        "        sentiment = row_split[2]\n",
        "        uid = row_split[1]\n",
        "      else:\n",
        "        val_data = val_data.append({\"uid\":uid.strip(), \"text\":buffer.strip(), \"lang_labels\":lang_label_buffer.strip(), \"sentiment\":sentiment.strip()}, ignore_index = True)\n",
        "        buffer = \"\"\n",
        "        lang_label_buffer = \"\"\n",
        "        sentiment = row_split[2]\n",
        "        uid = row_split[1]\n",
        "    else:\n",
        "      buffer = buffer + \" \" + row_split[0]\n",
        "      lang_label_buffer = lang_label_buffer + \" \" +row_split[1].strip()\n",
        "  except Exception as e:\n",
        "    print(\"Exception:\",e, \",Row\",i,\":\",repr(row))\n",
        "    raise\n",
        "#add last row\n",
        "val_data = val_data.append({\"uid\":uid.strip(), \"text\":buffer.strip(), \"lang_labels\":lang_label_buffer.strip(), \"sentiment\":sentiment.strip()}, ignore_index = True)"
      ],
      "execution_count": 0,
      "outputs": []
    },
    {
      "cell_type": "code",
      "metadata": {
        "colab_type": "code",
        "outputId": "20e09c76-397a-4579-bcd9-0d4e1bdc7003",
        "id": "WVt5IV3jwzpO",
        "colab": {
          "base_uri": "https://localhost:8080/",
          "height": 202
        }
      },
      "source": [
        "val_data.head()"
      ],
      "execution_count": 16,
      "outputs": [
        {
          "output_type": "execute_result",
          "data": {
            "text/html": [
              "<div>\n",
              "<style scoped>\n",
              "    .dataframe tbody tr th:only-of-type {\n",
              "        vertical-align: middle;\n",
              "    }\n",
              "\n",
              "    .dataframe tbody tr th {\n",
              "        vertical-align: top;\n",
              "    }\n",
              "\n",
              "    .dataframe thead th {\n",
              "        text-align: right;\n",
              "    }\n",
              "</style>\n",
              "<table border=\"1\" class=\"dataframe\">\n",
              "  <thead>\n",
              "    <tr style=\"text-align: right;\">\n",
              "      <th></th>\n",
              "      <th>uid</th>\n",
              "      <th>text</th>\n",
              "      <th>lang_labels</th>\n",
              "      <th>url</th>\n",
              "      <th>sentiment</th>\n",
              "    </tr>\n",
              "  </thead>\n",
              "  <tbody>\n",
              "    <tr>\n",
              "      <th>0</th>\n",
              "      <td>30258</td>\n",
              "      <td>@ prahladspatel modi mantrimandal may samil ho...</td>\n",
              "      <td>O Eng Eng Eng Eng Hin Hin Hin Hin Hin Hin</td>\n",
              "      <td>NaN</td>\n",
              "      <td>positive</td>\n",
              "    </tr>\n",
              "    <tr>\n",
              "      <th>1</th>\n",
              "      <td>16648</td>\n",
              "      <td>@ bkunalraj @ TajinderBagga @ NikhilJakhar14 @...</td>\n",
              "      <td>O Eng O Eng O Eng O Hin O Hin O Eng O Hin Hin ...</td>\n",
              "      <td>NaN</td>\n",
              "      <td>negative</td>\n",
              "    </tr>\n",
              "    <tr>\n",
              "      <th>2</th>\n",
              "      <td>28511</td>\n",
              "      <td>@ waglenikhil U saw caste and religion in them...</td>\n",
              "      <td>O Hin Hin Eng Eng Eng Eng Eng Eng O Eng Eng En...</td>\n",
              "      <td>NaN</td>\n",
              "      <td>negative</td>\n",
              "    </tr>\n",
              "    <tr>\n",
              "      <th>3</th>\n",
              "      <td>10466</td>\n",
              "      <td>@ DelhiPolice sir local police station pe comp...</td>\n",
              "      <td>O Hin Eng Eng Eng Hin Eng Eng Hin Hin Hin Hin ...</td>\n",
              "      <td>NaN</td>\n",
              "      <td>neutral</td>\n",
              "    </tr>\n",
              "    <tr>\n",
              "      <th>4</th>\n",
              "      <td>19266</td>\n",
              "      <td>Ve Maahi song from # Kesari is current favouri...</td>\n",
              "      <td>Hin Hin Eng Eng O Hin Eng Eng Eng O O Eng O En...</td>\n",
              "      <td>NaN</td>\n",
              "      <td>positive</td>\n",
              "    </tr>\n",
              "  </tbody>\n",
              "</table>\n",
              "</div>"
            ],
            "text/plain": [
              "     uid                                               text  ...  url sentiment\n",
              "0  30258  @ prahladspatel modi mantrimandal may samil ho...  ...  NaN  positive\n",
              "1  16648  @ bkunalraj @ TajinderBagga @ NikhilJakhar14 @...  ...  NaN  negative\n",
              "2  28511  @ waglenikhil U saw caste and religion in them...  ...  NaN  negative\n",
              "3  10466  @ DelhiPolice sir local police station pe comp...  ...  NaN   neutral\n",
              "4  19266  Ve Maahi song from # Kesari is current favouri...  ...  NaN  positive\n",
              "\n",
              "[5 rows x 5 columns]"
            ]
          },
          "metadata": {
            "tags": []
          },
          "execution_count": 16
        }
      ]
    },
    {
      "cell_type": "markdown",
      "metadata": {
        "id": "yrcz44RUhYMD",
        "colab_type": "text"
      },
      "source": [
        "## Save File"
      ]
    },
    {
      "cell_type": "code",
      "metadata": {
        "colab_type": "code",
        "id": "GDq2SG-qwzpZ",
        "colab": {}
      },
      "source": [
        "val_data[[\"text\",\"url\"]] = val_data.from_records(val_data[\"text\"].apply(lambda x: getUrl(x)), columns=[\"text\",\"url\"])\n",
        "val_data.to_csv(drive_path+\"loaded_val.csv\", index=False)"
      ],
      "execution_count": 0,
      "outputs": []
    }
  ]
}