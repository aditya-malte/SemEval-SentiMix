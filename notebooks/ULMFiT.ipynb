{
  "nbformat": 4,
  "nbformat_minor": 0,
  "metadata": {
    "colab": {
      "name": "ULMFiT.ipynb",
      "provenance": [],
      "collapsed_sections": []
    },
    "kernelspec": {
      "name": "python3",
      "display_name": "Python 3"
    },
    "accelerator": "GPU"
  },
  "cells": [
    {
      "cell_type": "code",
      "metadata": {
        "id": "CEmcDA7Rzpna",
        "colab_type": "code",
        "colab": {
          "base_uri": "https://localhost:8080/",
          "height": 205
        },
        "outputId": "6efc6a9d-5050-40e8-ad46-316538cbae77"
      },
      "source": [
        "!pip install emoji \n",
        "# !git clone https://github.com/NVIDIA/apex # For fp16\n",
        "# !pip install -v --no-cache-dir --global-option=\"--cpp_ext\" --global-option=\"--cuda_ext\" ./apex"
      ],
      "execution_count": 1,
      "outputs": [
        {
          "output_type": "stream",
          "text": [
            "Collecting emoji\n",
            "\u001b[?25l  Downloading https://files.pythonhosted.org/packages/40/8d/521be7f0091fe0f2ae690cc044faf43e3445e0ff33c574eae752dd7e39fa/emoji-0.5.4.tar.gz (43kB)\n",
            "\r\u001b[K     |███████▌                        | 10kB 25.2MB/s eta 0:00:01\r\u001b[K     |███████████████                 | 20kB 3.2MB/s eta 0:00:01\r\u001b[K     |██████████████████████▋         | 30kB 4.0MB/s eta 0:00:01\r\u001b[K     |██████████████████████████████▏ | 40kB 3.0MB/s eta 0:00:01\r\u001b[K     |████████████████████████████████| 51kB 2.3MB/s \n",
            "\u001b[?25hBuilding wheels for collected packages: emoji\n",
            "  Building wheel for emoji (setup.py) ... \u001b[?25l\u001b[?25hdone\n",
            "  Created wheel for emoji: filename=emoji-0.5.4-cp36-none-any.whl size=42176 sha256=b7e79cfb803af463528069fe6525e5e3b3c40dfe48199861fbadddab5c9285d6\n",
            "  Stored in directory: /root/.cache/pip/wheels/2a/a9/0a/4f8e8cce8074232aba240caca3fade315bb49fac68808d1a9c\n",
            "Successfully built emoji\n",
            "Installing collected packages: emoji\n",
            "Successfully installed emoji-0.5.4\n"
          ],
          "name": "stdout"
        }
      ]
    },
    {
      "cell_type": "code",
      "metadata": {
        "id": "k3wqVl0yS-Di",
        "colab_type": "code",
        "colab": {
          "base_uri": "https://localhost:8080/",
          "height": 302
        },
        "outputId": "449ae009-f1a8-4cb4-eb2e-22c44bcdf06d"
      },
      "source": [
        "gpu_info = !nvidia-smi\n",
        "gpu_info = '\\n'.join(gpu_info)\n",
        "if gpu_info.find('failed') >= 0:\n",
        "  print('Select the Runtime → \"Change runtime type\" menu to enable a GPU accelerator, ')\n",
        "  print('and then re-execute this cell.')\n",
        "else:\n",
        "  print(gpu_info)"
      ],
      "execution_count": 2,
      "outputs": [
        {
          "output_type": "stream",
          "text": [
            "Sun Feb  9 03:27:23 2020       \n",
            "+-----------------------------------------------------------------------------+\n",
            "| NVIDIA-SMI 440.48.02    Driver Version: 418.67       CUDA Version: 10.1     |\n",
            "|-------------------------------+----------------------+----------------------+\n",
            "| GPU  Name        Persistence-M| Bus-Id        Disp.A | Volatile Uncorr. ECC |\n",
            "| Fan  Temp  Perf  Pwr:Usage/Cap|         Memory-Usage | GPU-Util  Compute M. |\n",
            "|===============================+======================+======================|\n",
            "|   0  Tesla T4            Off  | 00000000:00:04.0 Off |                    0 |\n",
            "| N/A   40C    P8     9W /  70W |      0MiB / 15079MiB |      0%      Default |\n",
            "+-------------------------------+----------------------+----------------------+\n",
            "                                                                               \n",
            "+-----------------------------------------------------------------------------+\n",
            "| Processes:                                                       GPU Memory |\n",
            "|  GPU       PID   Type   Process name                             Usage      |\n",
            "|=============================================================================|\n",
            "|  No running processes found                                                 |\n",
            "+-----------------------------------------------------------------------------+\n"
          ],
          "name": "stdout"
        }
      ]
    },
    {
      "cell_type": "markdown",
      "metadata": {
        "id": "X7tKdQJdWeT_",
        "colab_type": "text"
      },
      "source": [
        "# IMPORTS"
      ]
    },
    {
      "cell_type": "code",
      "metadata": {
        "id": "NODTw5O0cP2j",
        "colab_type": "code",
        "colab": {}
      },
      "source": [
        "import os\n",
        "\n",
        "from fastai.text import *\n",
        "import pandas as pd\n",
        "import numpy as np\n",
        "# from tqdm import tqdm\n",
        "# tqdm.pandas()\n",
        "\n",
        "pd.options.display.max_rows=100\n",
        "\n",
        "pd.set_option('display.max_colwidth', -1)"
      ],
      "execution_count": 0,
      "outputs": []
    },
    {
      "cell_type": "code",
      "metadata": {
        "id": "eHtUF2VZIUMe",
        "colab_type": "code",
        "colab": {
          "base_uri": "https://localhost:8080/",
          "height": 154
        },
        "outputId": "d2ccc7fb-3746-4053-e119-4282ebc76ee4"
      },
      "source": [
        "from google.colab import drive\n",
        "drive.mount('/gdrive', force_remount=True)\n",
        "\n",
        "!ln -s \"/gdrive/My Drive/SemEval_weights_data\" \"/content/\"\n",
        "drive_path = \"/content/SemEval_weights_data/\"\n",
        "save_path = \"/content/SemEval_weights_data/models\"\n",
        "\n",
        "try:\n",
        "  os.chdir(drive_path)\n",
        "  #os.chdir('/content/drive/My Drive/Colab Notebooks/semeval')\n",
        "  print('Changed directory')\n",
        "  print(os.getcwd())\n",
        "except:\n",
        "  print('Cannot change directory')\n",
        "  print(os.getcwd())"
      ],
      "execution_count": 4,
      "outputs": [
        {
          "output_type": "stream",
          "text": [
            "Go to this URL in a browser: https://accounts.google.com/o/oauth2/auth?client_id=947318989803-6bn6qk8qdgf4n4g3pfee6491hc0brc4i.apps.googleusercontent.com&redirect_uri=urn%3aietf%3awg%3aoauth%3a2.0%3aoob&response_type=code&scope=email%20https%3a%2f%2fwww.googleapis.com%2fauth%2fdocs.test%20https%3a%2f%2fwww.googleapis.com%2fauth%2fdrive%20https%3a%2f%2fwww.googleapis.com%2fauth%2fdrive.photos.readonly%20https%3a%2f%2fwww.googleapis.com%2fauth%2fpeopleapi.readonly\n",
            "\n",
            "Enter your authorization code:\n",
            "··········\n",
            "Mounted at /gdrive\n",
            "Changed directory\n",
            "/gdrive/My Drive/SemEval_weights_data\n"
          ],
          "name": "stdout"
        }
      ]
    },
    {
      "cell_type": "markdown",
      "metadata": {
        "id": "_0FqsRgqWo2c",
        "colab_type": "text"
      },
      "source": [
        "## 1. Import the data"
      ]
    },
    {
      "cell_type": "code",
      "metadata": {
        "id": "FOcDZlEJWwAB",
        "colab_type": "code",
        "colab": {
          "base_uri": "https://localhost:8080/",
          "height": 377
        },
        "outputId": "3ff20604-e889-4d45-e27d-bfc9619d9486"
      },
      "source": [
        "df_text = pd.read_csv(drive_path+'twitter_scraped/twitter_cleaned.csv').rename({'tweets': 'text'}, axis=1)\n",
        "df_text.dropna(inplace=True)\n",
        "df_text.head(10)"
      ],
      "execution_count": 5,
      "outputs": [
        {
          "output_type": "execute_result",
          "data": {
            "text/html": [
              "<div>\n",
              "<style scoped>\n",
              "    .dataframe tbody tr th:only-of-type {\n",
              "        vertical-align: middle;\n",
              "    }\n",
              "\n",
              "    .dataframe tbody tr th {\n",
              "        vertical-align: top;\n",
              "    }\n",
              "\n",
              "    .dataframe thead th {\n",
              "        text-align: right;\n",
              "    }\n",
              "</style>\n",
              "<table border=\"1\" class=\"dataframe\">\n",
              "  <thead>\n",
              "    <tr style=\"text-align: right;\">\n",
              "      <th></th>\n",
              "      <th>Unnamed: 0</th>\n",
              "      <th>text</th>\n",
              "    </tr>\n",
              "  </thead>\n",
              "  <tbody>\n",
              "    <tr>\n",
              "      <th>0</th>\n",
              "      <td>0</td>\n",
              "      <td>acchi khasi chal rahi thi zindagi ki gaadi akele, kuch log aa gaye aur zindagi ka balance khrab ho gaya. — feeling irritated</td>\n",
              "    </tr>\n",
              "    <tr>\n",
              "      <th>1</th>\n",
              "      <td>1</td>\n",
              "      <td>yes lol war bina dekhy mar gai chita mein kal gai</td>\n",
              "    </tr>\n",
              "    <tr>\n",
              "      <th>2</th>\n",
              "      <td>2</td>\n",
              "      <td>aur khane ke lale padte ho to naan yaha india se bhijwa denge.</td>\n",
              "    </tr>\n",
              "    <tr>\n",
              "      <th>3</th>\n",
              "      <td>3</td>\n",
              "      <td>boot ki boo , ney dab ko behoosh kar dia?</td>\n",
              "    </tr>\n",
              "    <tr>\n",
              "      <th>4</th>\n",
              "      <td>4</td>\n",
              "      <td>post edited: amitabh bachchan, dhanush and akshara haasan promote shamitabh in dubai</td>\n",
              "    </tr>\n",
              "    <tr>\n",
              "      <th>5</th>\n",
              "      <td>5</td>\n",
              "      <td>@expressnewspk jammu kashmir ko azad karao</td>\n",
              "    </tr>\n",
              "    <tr>\n",
              "      <th>6</th>\n",
              "      <td>6</td>\n",
              "      <td>woh bakri nahi suvvar tha</td>\n",
              "    </tr>\n",
              "    <tr>\n",
              "      <th>7</th>\n",
              "      <td>7</td>\n",
              "      <td>modi ban ne ki koshish mat karo kuch study kar liya karo kuch bhi tweet karne se pahele.</td>\n",
              "    </tr>\n",
              "    <tr>\n",
              "      <th>8</th>\n",
              "      <td>8</td>\n",
              "      <td>woh namard aur nipusak hindu hai …</td>\n",
              "    </tr>\n",
              "    <tr>\n",
              "      <th>9</th>\n",
              "      <td>9</td>\n",
              "      <td>jo hua galat h lekin sab koi bardasht nahin kar sakta h jo debate m hota h. bhadoriyaji ki aadat h beech m bolne ki. aam aadmi to aisi situation m hamesha fight kar lete. woh to neta media ke aagey narm ho jaate h.</td>\n",
              "    </tr>\n",
              "  </tbody>\n",
              "</table>\n",
              "</div>"
            ],
            "text/plain": [
              "  Unnamed: 0                                                                                                                                                                                                                    text\n",
              "0  0          acchi khasi chal rahi thi zindagi ki gaadi akele, kuch log aa gaye aur zindagi ka balance khrab ho gaya. — feeling irritated                                                                                          \n",
              "1  1          yes lol war bina dekhy mar gai chita mein kal gai                                                                                                                                                                     \n",
              "2  2          aur khane ke lale padte ho to naan yaha india se bhijwa denge.                                                                                                                                                        \n",
              "3  3          boot ki boo , ney dab ko behoosh kar dia?                                                                                                                                                                             \n",
              "4  4          post edited: amitabh bachchan, dhanush and akshara haasan promote shamitabh in dubai                                                                                                                                  \n",
              "5  5          @expressnewspk jammu kashmir ko azad karao                                                                                                                                                                            \n",
              "6  6          woh bakri nahi suvvar tha                                                                                                                                                                                             \n",
              "7  7          modi ban ne ki koshish mat karo kuch study kar liya karo kuch bhi tweet karne se pahele.                                                                                                                              \n",
              "8  8          woh namard aur nipusak hindu hai …                                                                                                                                                                                    \n",
              "9  9          jo hua galat h lekin sab koi bardasht nahin kar sakta h jo debate m hota h. bhadoriyaji ki aadat h beech m bolne ki. aam aadmi to aisi situation m hamesha fight kar lete. woh to neta media ke aagey narm ho jaate h."
            ]
          },
          "metadata": {
            "tags": []
          },
          "execution_count": 5
        }
      ]
    },
    {
      "cell_type": "code",
      "metadata": {
        "id": "QtJrE3IAcsPM",
        "colab_type": "code",
        "outputId": "d4fa406c-745c-48e1-d219-26f304d2e747",
        "colab": {
          "base_uri": "https://localhost:8080/",
          "height": 195
        }
      },
      "source": [
        "df_train = pd.read_csv(drive_path+'data/processed_train.csv')\n",
        "df_test = pd.read_csv(drive_path+'data/processed_val.csv')\n",
        "\n",
        "df_trn = df_train[['sentiment', 'text']].rename({'sentiment': 'label'}, axis=1)\n",
        "df_val = df_test[['sentiment', 'text']].rename({'sentiment': 'label'}, axis=1)\n",
        "df_trn.head()"
      ],
      "execution_count": 6,
      "outputs": [
        {
          "output_type": "execute_result",
          "data": {
            "text/html": [
              "<div>\n",
              "<style scoped>\n",
              "    .dataframe tbody tr th:only-of-type {\n",
              "        vertical-align: middle;\n",
              "    }\n",
              "\n",
              "    .dataframe tbody tr th {\n",
              "        vertical-align: top;\n",
              "    }\n",
              "\n",
              "    .dataframe thead th {\n",
              "        text-align: right;\n",
              "    }\n",
              "</style>\n",
              "<table border=\"1\" class=\"dataframe\">\n",
              "  <thead>\n",
              "    <tr style=\"text-align: right;\">\n",
              "      <th></th>\n",
              "      <th>label</th>\n",
              "      <th>text</th>\n",
              "    </tr>\n",
              "  </thead>\n",
              "  <tbody>\n",
              "    <tr>\n",
              "      <th>0</th>\n",
              "      <td>neutral</td>\n",
              "      <td>nen á vist bolest vztek smutek zmatek osam ě lost beznad ě j a nakonec jen klid Asi takhle vypad á m ů j life ...</td>\n",
              "    </tr>\n",
              "    <tr>\n",
              "      <th>1</th>\n",
              "      <td>neutral</td>\n",
              "      <td>@nehantics Haan yaar neha :pensive_face::pensive_face: kab karega woh post :loudly_crying_face: Usne na sach mein photoshoot karna chahiye phir woh post karega</td>\n",
              "    </tr>\n",
              "    <tr>\n",
              "      <th>2</th>\n",
              "      <td>negative</td>\n",
              "      <td>@RahulGandhi television media congress ke liye nhi h . Ye toh aapko pata chal hi gya hoga . Achha hoga ki Congress ke</td>\n",
              "    </tr>\n",
              "    <tr>\n",
              "      <th>3</th>\n",
              "      <td>positive</td>\n",
              "      <td>@AmitShah @narendramodi All India me nrc lagu kare w Kashmir se dhara ko khatam kare ham Indian ko apse yahi umid hai</td>\n",
              "    </tr>\n",
              "    <tr>\n",
              "      <th>4</th>\n",
              "      <td>neutral</td>\n",
              "      <td>@Nehr_who @TypoMantri @anjanaomkashyap Pagal hai kya ? They aren ’ t real issues Mandir is important Hindu khatre mei jo hai !</td>\n",
              "    </tr>\n",
              "  </tbody>\n",
              "</table>\n",
              "</div>"
            ],
            "text/plain": [
              "      label                                                                                                                                                              text\n",
              "0  neutral   nen á vist bolest vztek smutek zmatek osam ě lost beznad ě j a nakonec jen klid Asi takhle vypad á m ů j life ...                                               \n",
              "1  neutral   @nehantics Haan yaar neha :pensive_face::pensive_face: kab karega woh post :loudly_crying_face: Usne na sach mein photoshoot karna chahiye phir woh post karega \n",
              "2  negative  @RahulGandhi television media congress ke liye nhi h . Ye toh aapko pata chal hi gya hoga . Achha hoga ki Congress ke                                           \n",
              "3  positive  @AmitShah @narendramodi All India me nrc lagu kare w Kashmir se dhara ko khatam kare ham Indian ko apse yahi umid hai                                           \n",
              "4  neutral   @Nehr_who @TypoMantri @anjanaomkashyap Pagal hai kya ? They aren ’ t real issues Mandir is important Hindu khatre mei jo hai !                                  "
            ]
          },
          "metadata": {
            "tags": []
          },
          "execution_count": 6
        }
      ]
    },
    {
      "cell_type": "code",
      "metadata": {
        "id": "eiBQc-129epu",
        "colab_type": "code",
        "colab": {
          "base_uri": "https://localhost:8080/",
          "height": 34
        },
        "outputId": "ae988c49-6b2e-4eb1-89a2-c6fa05f50c8a"
      },
      "source": [
        "import requests\n",
        "import re\n",
        "import string\n",
        "try:\n",
        "  import emoji\n",
        "except:\n",
        "  print(\"Error importing emoji library: demojisation may not work\")\n",
        "class PreProcess:\n",
        "  def __init__(self, remove_punct=False, sep_url=True, remove_url=True,\n",
        "               remove_hashtag=False,remove_usertag=False,remove_no=True, lowercase=False,\n",
        "               convert_emoji=True, solve_gaps=True, remove_newline=True):\n",
        "    self.remove_punct = remove_punct\n",
        "    self.sep_url = sep_url\n",
        "    self.remove_url = remove_url\n",
        "    self.remove_hashtag = remove_hashtag\n",
        "    self.remove_usertag = remove_usertag\n",
        "    self.remove_no = remove_no\n",
        "    self.lowercase = lowercase\n",
        "    self.remove_newline = remove_newline\n",
        "    self.convert_emoji = convert_emoji\n",
        "    self.solve_gaps = solve_gaps\n",
        "    if(self.convert_emoji):\n",
        "      import emoji\n",
        "\n",
        "  def preprocess(self, text=\"\"):\n",
        "      try:\n",
        "        processed_text = text[:]\n",
        "\n",
        "        #separate the external url \n",
        "        if(self.sep_url):\n",
        "          url = None\n",
        "          processed_text, _, url = text.partition(\"…\")\n",
        "          if(url!=''):\n",
        "              url = \"\".join(url.split())\n",
        "              url = \"https://t.co/\" + url.rsplit('/', 1)[-1]\n",
        "          else:\n",
        "              url=None\n",
        "\n",
        "        #remove urls in text\n",
        "        if(self.remove_url):\n",
        "          processed_text = re.sub(\"http\\S+\", \"\", processed_text, flags=re.MULTILINE)\n",
        "        \n",
        "        #remove all newlines\n",
        "        if(self.remove_newline):\n",
        "          processed_text = processed_text.replace(\"\\n\", \" \")\n",
        "\n",
        "        #handle hashtags and usernames\n",
        "        if(self.remove_hashtag):\n",
        "          processed_text = re.sub(\"#\", \"\", processed_text)\n",
        "        if(self.remove_usertag):\n",
        "          processed_text = re.sub('@[^\\s]+','', processed_text)\n",
        "\n",
        "\n",
        "\n",
        "        #remove repeated punctuations\n",
        "        if(self.remove_punct):\n",
        "            for punctuation in string.punctuation:\n",
        "                while True:\n",
        "                    replaced =  processed_text.replace(punctuation * 2, punctuation)\n",
        "                    if replaced == processed_text:\n",
        "                        break\n",
        "                    processed_text = replaced\n",
        "\n",
        "\n",
        "\n",
        "        #tokenize punctuations\n",
        "        \"\"\"\n",
        "        for punctuation in string.punctuation:\n",
        "            processed_text =  processed_text.replace(punctuation, \" \" + punctuation+ \" \")\n",
        "        \"\"\" \n",
        "\n",
        "\n",
        "        #remove numbers\n",
        "        if(self.remove_no):\n",
        "          processed_text = re.sub(\"\\d+\", \"\", processed_text)\n",
        "\n",
        "\n",
        "\n",
        "        #convert emojis\n",
        "        if(self.convert_emoji):\n",
        "          processed_text = emoji.demojize(processed_text)\n",
        "\n",
        "\n",
        "\n",
        "        #convert multiple whitespaces to single\n",
        "        #detect newline and replace with random string\n",
        "        #processed_text = processed_text.replace(\"\\n\", \"QSDWDSrfefafawecsd\")\n",
        "        processed_text = re.sub(\"\\s\\s+\", \" \", processed_text)\n",
        "        #replace again with newline\n",
        "        #processed_text = processed_text.replace(\"QSDWDSrfefafawecsd\", \"\\n\")\n",
        "\n",
        "        #Convert to lower case\n",
        "        if(self.lowercase):   \n",
        "          processed_text = processed_text.lower()\n",
        "\n",
        "        if(processed_text == \"\"):\n",
        "          processed_text = \"blank\"\n",
        "        \n",
        "        #breaks the lang labels:\n",
        "        if(self.solve_gaps):\n",
        "          processed_text = processed_text.replace(\"@ \", \"@\").replace(\" _ \", \"_\")\n",
        "        \n",
        "        if self.sep_url:\n",
        "          return (processed_text, url)\n",
        "        else:\n",
        "          return processed_text\n",
        "      except Exception as e:\n",
        "        print(\"Error at: \", text, \"--\",e)\n",
        "\n",
        "preprocess = PreProcess(sep_url=False, remove_url=True, remove_usertag=True).preprocess\n",
        "\n",
        "def process_emoji(text):\n",
        "  return text.replace('::', ' ').replace(':', '').split('//')[0]\n",
        "\n",
        "text = '@RahulGandhi television media congress'\n",
        "preprocess(text)"
      ],
      "execution_count": 7,
      "outputs": [
        {
          "output_type": "execute_result",
          "data": {
            "text/plain": [
              "' television media congress'"
            ]
          },
          "metadata": {
            "tags": []
          },
          "execution_count": 7
        }
      ]
    },
    {
      "cell_type": "code",
      "metadata": {
        "id": "-4A6G7vSA5M8",
        "colab_type": "code",
        "colab": {
          "base_uri": "https://localhost:8080/",
          "height": 195
        },
        "outputId": "ef785da9-1215-457d-8992-d13728d4a2c1"
      },
      "source": [
        "preprocess = PreProcess(sep_url=False, remove_url=True).preprocess\n",
        "df_text[\"text\"] = df_text[\"text\"].apply(preprocess).apply(process_emoji)\n",
        "\n",
        "preprocess = PreProcess(sep_url=False, remove_url=True).preprocess\n",
        "df_trn[\"text\"]  = df_trn[\"text\"].apply(preprocess).apply(process_emoji)\n",
        "df_val[\"text\"]  = df_val[\"text\"].apply(preprocess).apply(process_emoji)\n",
        "\n",
        "df_text.dropna(inplace=True)\n",
        "df_trn.dropna(inplace=True)\n",
        "df_val.dropna(inplace=True)\n",
        "\n",
        "df_trn.head()"
      ],
      "execution_count": 8,
      "outputs": [
        {
          "output_type": "execute_result",
          "data": {
            "text/html": [
              "<div>\n",
              "<style scoped>\n",
              "    .dataframe tbody tr th:only-of-type {\n",
              "        vertical-align: middle;\n",
              "    }\n",
              "\n",
              "    .dataframe tbody tr th {\n",
              "        vertical-align: top;\n",
              "    }\n",
              "\n",
              "    .dataframe thead th {\n",
              "        text-align: right;\n",
              "    }\n",
              "</style>\n",
              "<table border=\"1\" class=\"dataframe\">\n",
              "  <thead>\n",
              "    <tr style=\"text-align: right;\">\n",
              "      <th></th>\n",
              "      <th>label</th>\n",
              "      <th>text</th>\n",
              "    </tr>\n",
              "  </thead>\n",
              "  <tbody>\n",
              "    <tr>\n",
              "      <th>0</th>\n",
              "      <td>neutral</td>\n",
              "      <td>nen á vist bolest vztek smutek zmatek osam ě lost beznad ě j a nakonec jen klid Asi takhle vypad á m ů j life ...</td>\n",
              "    </tr>\n",
              "    <tr>\n",
              "      <th>1</th>\n",
              "      <td>neutral</td>\n",
              "      <td>@nehantics Haan yaar neha pensive_face pensive_face kab karega woh post loudly_crying_face Usne na sach mein photoshoot karna chahiye phir woh post karega</td>\n",
              "    </tr>\n",
              "    <tr>\n",
              "      <th>2</th>\n",
              "      <td>negative</td>\n",
              "      <td>@RahulGandhi television media congress ke liye nhi h . Ye toh aapko pata chal hi gya hoga . Achha hoga ki Congress ke</td>\n",
              "    </tr>\n",
              "    <tr>\n",
              "      <th>3</th>\n",
              "      <td>positive</td>\n",
              "      <td>@AmitShah @narendramodi All India me nrc lagu kare w Kashmir se dhara ko khatam kare ham Indian ko apse yahi umid hai</td>\n",
              "    </tr>\n",
              "    <tr>\n",
              "      <th>4</th>\n",
              "      <td>neutral</td>\n",
              "      <td>@Nehr_who @TypoMantri @anjanaomkashyap Pagal hai kya ? They aren ’ t real issues Mandir is important Hindu khatre mei jo hai !</td>\n",
              "    </tr>\n",
              "  </tbody>\n",
              "</table>\n",
              "</div>"
            ],
            "text/plain": [
              "      label                                                                                                                                                         text\n",
              "0  neutral   nen á vist bolest vztek smutek zmatek osam ě lost beznad ě j a nakonec jen klid Asi takhle vypad á m ů j life ...                                          \n",
              "1  neutral   @nehantics Haan yaar neha pensive_face pensive_face kab karega woh post loudly_crying_face Usne na sach mein photoshoot karna chahiye phir woh post karega \n",
              "2  negative  @RahulGandhi television media congress ke liye nhi h . Ye toh aapko pata chal hi gya hoga . Achha hoga ki Congress ke                                      \n",
              "3  positive  @AmitShah @narendramodi All India me nrc lagu kare w Kashmir se dhara ko khatam kare ham Indian ko apse yahi umid hai                                      \n",
              "4  neutral   @Nehr_who @TypoMantri @anjanaomkashyap Pagal hai kya ? They aren ’ t real issues Mandir is important Hindu khatre mei jo hai !                             "
            ]
          },
          "metadata": {
            "tags": []
          },
          "execution_count": 8
        }
      ]
    },
    {
      "cell_type": "markdown",
      "metadata": {
        "id": "7SSQyf-RWwnG",
        "colab_type": "text"
      },
      "source": [
        "## 2. Create train & validation datasets and FastAI data bunch"
      ]
    },
    {
      "cell_type": "code",
      "metadata": {
        "id": "FCluSQS2WXYy",
        "colab_type": "code",
        "colab": {
          "base_uri": "https://localhost:8080/",
          "height": 34
        },
        "outputId": "be0ff9f7-6345-4835-9a16-c0645c475c5e"
      },
      "source": [
        "from sklearn.model_selection import train_test_split\n",
        "\n",
        "df_lm_trn, df_lm_val = train_test_split(df_text, test_size = 0.1)\n",
        "\n",
        "df_lm_trn.shape, df_lm_val.shape"
      ],
      "execution_count": 9,
      "outputs": [
        {
          "output_type": "execute_result",
          "data": {
            "text/plain": [
              "((275632, 2), (30626, 2))"
            ]
          },
          "metadata": {
            "tags": []
          },
          "execution_count": 9
        }
      ]
    },
    {
      "cell_type": "code",
      "metadata": {
        "id": "yx5Z7N6v85y8",
        "colab_type": "code",
        "colab": {
          "base_uri": "https://localhost:8080/",
          "height": 17
        },
        "outputId": "a31f9012-92c6-455d-e420-33692a36577e"
      },
      "source": [
        "# Language model data\n",
        "data_lm = TextLMDataBunch.from_df(train_df = df_lm_trn, valid_df = df_lm_val, path = \"\")\n",
        "data_lm_task = TextLMDataBunch.from_df(train_df = df_trn, valid_df = df_val, path = \"\", vocab=data_lm.train_ds.vocab)\n",
        "\n",
        "# Classifier model data\n",
        "data_clas = TextClasDataBunch.from_df(train_df = df_trn, valid_df = df_val, path = \"\", vocab=data_lm_task.train_ds.vocab, bs=32)"
      ],
      "execution_count": 10,
      "outputs": [
        {
          "output_type": "display_data",
          "data": {
            "text/html": [
              ""
            ],
            "text/plain": [
              "<IPython.core.display.HTML object>"
            ]
          },
          "metadata": {
            "tags": []
          }
        },
        {
          "output_type": "display_data",
          "data": {
            "text/html": [
              ""
            ],
            "text/plain": [
              "<IPython.core.display.HTML object>"
            ]
          },
          "metadata": {
            "tags": []
          }
        },
        {
          "output_type": "display_data",
          "data": {
            "text/html": [
              ""
            ],
            "text/plain": [
              "<IPython.core.display.HTML object>"
            ]
          },
          "metadata": {
            "tags": []
          }
        },
        {
          "output_type": "display_data",
          "data": {
            "text/html": [
              ""
            ],
            "text/plain": [
              "<IPython.core.display.HTML object>"
            ]
          },
          "metadata": {
            "tags": []
          }
        },
        {
          "output_type": "display_data",
          "data": {
            "text/html": [
              ""
            ],
            "text/plain": [
              "<IPython.core.display.HTML object>"
            ]
          },
          "metadata": {
            "tags": []
          }
        },
        {
          "output_type": "display_data",
          "data": {
            "text/html": [
              ""
            ],
            "text/plain": [
              "<IPython.core.display.HTML object>"
            ]
          },
          "metadata": {
            "tags": []
          }
        }
      ]
    },
    {
      "cell_type": "code",
      "metadata": {
        "id": "YcbffU6e88k5",
        "colab_type": "code",
        "outputId": "904c82fb-18a7-4eae-b382-95bc14ec07d4",
        "colab": {
          "base_uri": "https://localhost:8080/",
          "height": 279
        }
      },
      "source": [
        "data_clas.show_batch()"
      ],
      "execution_count": 11,
      "outputs": [
        {
          "output_type": "display_data",
          "data": {
            "text/html": [
              "<table border=\"1\" class=\"dataframe\">\n",
              "  <thead>\n",
              "    <tr style=\"text-align: right;\">\n",
              "      <th>text</th>\n",
              "      <th>target</th>\n",
              "    </tr>\n",
              "  </thead>\n",
              "  <tbody>\n",
              "    <tr>\n",
              "      <td>xxbos xxmaj omg xxwrep 4 xxunk xxmaj my xxmaj baby xxunk xxunk - eyes xxunk - eyes xxunk - eyes .. xxmaj in xxmaj big xxmaj boss xxunk xxunk xxunk - eyes .. xxmaj ca n't wait to see you xxunk xxunk xxunk - eyes . xxmaj aap hi jitoge i know xxunk - eyes xxunk - eyes xxunk - eyes xxunk - eyes xxunk - eyes .. i 'm</td>\n",
              "      <td>positive</td>\n",
              "    </tr>\n",
              "    <tr>\n",
              "      <td>xxbos xxmaj someone - i love u xxunk xxunk xxmaj me -- xxmaj kyun xxunk xxmaj mai kyun xxunk xxmaj kya dekh liya mujhme xxunk itne sare log xxmaj hain dunya xxmaj mei xxunk xxmaj mai hi kyun xxunk xxunk xxunk xxunk xxunk xxunk xxunk xxup gd morning frnds xxunk xxunk xxunk xxunk</td>\n",
              "      <td>neutral</td>\n",
              "    </tr>\n",
              "    <tr>\n",
              "      <td>xxbos xxmaj mere xxmaj pyaare @nakuulmehta xxmaj can you plz make my day more special with a xxmaj birthday xxmaj wish plz xxunk xxunk see - no - xxunk see - no - xxunk xxunk xxunk xxmaj mera xxmaj birthday xxmaj hain xxmaj aaj . xxmaj wish xxmaj xxunk xxunk xxunk</td>\n",
              "      <td>neutral</td>\n",
              "    </tr>\n",
              "    <tr>\n",
              "      <td>xxbos xxup rt xxunk [ v xxup live + ] / ( xxup sun ) xxup pm ( xxup xxunk ) xxup bts xxup th xxup xxunk [ xxup magic xxup shop ] xxup live xxup streaming in xxup xxunk ! xxunk xxunk xxunk xxunk xxunk xxunk xxunk xxunk ..</td>\n",
              "      <td>neutral</td>\n",
              "    </tr>\n",
              "    <tr>\n",
              "      <td>xxbos xxmaj miran xxmaj shah xxmaj me xxmaj pak xxmaj fauj xxmaj ki xxmaj check xxmaj post xxmaj pr xxup ptm k xxup mna xxmaj mohsin xxmaj dawar xxmaj ki xxmaj sathiyo k xxmaj hamrah xxmaj firing xxmaj pak xxmaj fauj k xxmaj khilaf xxmaj naray xxmaj bazi xxmaj ki</td>\n",
              "      <td>negative</td>\n",
              "    </tr>\n",
              "  </tbody>\n",
              "</table>"
            ],
            "text/plain": [
              "<IPython.core.display.HTML object>"
            ]
          },
          "metadata": {
            "tags": []
          }
        }
      ]
    },
    {
      "cell_type": "code",
      "metadata": {
        "id": "Jo1xRTOP9J_2",
        "colab_type": "code",
        "colab": {}
      },
      "source": [
        "# data_lm.save('data_lm_export.pkl')\n",
        "# data_clas.save('data_clas_export.pkl')\n",
        "# data_lm = load_data('./', 'data_lm_export.pkl')\n",
        "# data_clas = load_data('./', 'data_clas_export.pkl', bs=64)"
      ],
      "execution_count": 0,
      "outputs": []
    },
    {
      "cell_type": "markdown",
      "metadata": {
        "id": "5UsS_KdIW6DS",
        "colab_type": "text"
      },
      "source": [
        "## 3. Create and Train the Language Model"
      ]
    },
    {
      "cell_type": "markdown",
      "metadata": {
        "id": "wDso51Rd5QY2",
        "colab_type": "text"
      },
      "source": [
        "3.1 General LM pretraining on tweets"
      ]
    },
    {
      "cell_type": "code",
      "metadata": {
        "id": "l-IrOyNv9UIL",
        "colab_type": "code",
        "colab": {
          "base_uri": "https://localhost:8080/",
          "height": 1000
        },
        "outputId": "21f13382-b157-4cb7-d647-1a4b884a1df7"
      },
      "source": [
        "learn = language_model_learner(data_lm, AWD_LSTM, drop_mult=0.3)\n",
        "learn.to_fp16()"
      ],
      "execution_count": 13,
      "outputs": [
        {
          "output_type": "stream",
          "text": [
            "Downloading https://s3.amazonaws.com/fast-ai-modelzoo/wt103-fwd\n"
          ],
          "name": "stdout"
        },
        {
          "output_type": "display_data",
          "data": {
            "text/html": [
              ""
            ],
            "text/plain": [
              "<IPython.core.display.HTML object>"
            ]
          },
          "metadata": {
            "tags": []
          }
        },
        {
          "output_type": "execute_result",
          "data": {
            "text/plain": [
              "LanguageLearner(data=TextLMDataBunch;\n",
              "\n",
              "Train: LabelList (275632 items)\n",
              "x: LMTextList\n",
              "xxbos xxunk xxunk xxunk xxunk xxunk naya pakistan dy bhai,xxbos tu haramkhor hai hi gadaar , jahan khata waheen gand kerta hai kuttay dollar khor,xxbos kashmir to karachi # xxunk,xxbos sir ap log yani pak army is mulk ko bacha len xxunk pyarey army bhaiyon ki qurbaniyon ko bacha xxunk i love you pak army,xxbos nawaz sahab ko deel saqib nissar dy rahy thy jub nai li apni waif ko nazuk halat ma chor k pakistan mai akr jail jana qabool kr lia abhi nawaz sahab ny deel nai tibi xxunk pe jo unka haq ha us k lea xxunk ki thi jo reject kr di gai deel pti krna chahati ha nawaz nai\n",
              "y: LMLabelList\n",
              ",,,,\n",
              "Path: .;\n",
              "\n",
              "Valid: LabelList (30626 items)\n",
              "x: LMTextList\n",
              "xxbos dekho @rahulgandhi aur @incindia ke gunde kaise @republic ke reporters ko bhaga rahe hai , kejriwal ki kasam baaki saare bikau liberal pakistan parast media houses aur unke journalists ke muh mein dahi jam jaayega . no intolerance no debates no chest xxunk # loksabhaelections   …,xxbos isko kaho ye nakli morality apne pichwade mai daal le,xxbos behen ji please mujhe maaf karein . aap sarcasm ke naam pe casteism ka xxunk bana lijiye . shubh ratri,xxbos so called dalit sirf itna bata de ki raja ke daan se padhne wala aadmi xxunk jaati ka dushman kaise bana aur unki dusri biwi ke bare mein kya khayal hai unke , jabki unke hi khandaan ke log ab dalit ke neta bane phir rahe hai,xxbos iss admi ko apna gotra nahi pata or ye hindu dharma ko acche see samajhta hai . joke of the century\n",
              "y: LMLabelList\n",
              ",,,,\n",
              "Path: .;\n",
              "\n",
              "Test: None, model=SequentialRNN(\n",
              "  (0): AWD_LSTM(\n",
              "    (encoder): Embedding(60000, 400, padding_idx=1)\n",
              "    (encoder_dp): EmbeddingDropout(\n",
              "      (emb): Embedding(60000, 400, padding_idx=1)\n",
              "    )\n",
              "    (rnns): ModuleList(\n",
              "      (0): WeightDropout(\n",
              "        (module): LSTM(400, 1152, batch_first=True)\n",
              "      )\n",
              "      (1): WeightDropout(\n",
              "        (module): LSTM(1152, 1152, batch_first=True)\n",
              "      )\n",
              "      (2): WeightDropout(\n",
              "        (module): LSTM(1152, 400, batch_first=True)\n",
              "      )\n",
              "    )\n",
              "    (input_dp): RNNDropout()\n",
              "    (hidden_dps): ModuleList(\n",
              "      (0): RNNDropout()\n",
              "      (1): RNNDropout()\n",
              "      (2): RNNDropout()\n",
              "    )\n",
              "  )\n",
              "  (1): LinearDecoder(\n",
              "    (decoder): Linear(in_features=400, out_features=60000, bias=True)\n",
              "    (output_dp): RNNDropout()\n",
              "  )\n",
              "), opt_func=functools.partial(<class 'torch.optim.adam.Adam'>, betas=(0.9, 0.99)), loss_func=FlattenedLoss of CrossEntropyLoss(), metrics=[<function accuracy at 0x7fa8d17d0378>], true_wd=True, bn_wd=True, wd=0.01, train_bn=True, path=PosixPath('.'), model_dir='models', callback_fns=[functools.partial(<class 'fastai.basic_train.Recorder'>, add_time=True, silent=False)], callbacks=[RNNTrainer\n",
              "learn: LanguageLearner(data=TextLMDataBunch;\n",
              "\n",
              "Train: LabelList (275632 items)\n",
              "x: LMTextList\n",
              "xxbos xxunk xxunk xxunk xxunk xxunk naya pakistan dy bhai,xxbos tu haramkhor hai hi gadaar , jahan khata waheen gand kerta hai kuttay dollar khor,xxbos kashmir to karachi # xxunk,xxbos sir ap log yani pak army is mulk ko bacha len xxunk pyarey army bhaiyon ki qurbaniyon ko bacha xxunk i love you pak army,xxbos nawaz sahab ko deel saqib nissar dy rahy thy jub nai li apni waif ko nazuk halat ma chor k pakistan mai akr jail jana qabool kr lia abhi nawaz sahab ny deel nai tibi xxunk pe jo unka haq ha us k lea xxunk ki thi jo reject kr di gai deel pti krna chahati ha nawaz nai\n",
              "y: LMLabelList\n",
              ",,,,\n",
              "Path: .;\n",
              "\n",
              "Valid: LabelList (30626 items)\n",
              "x: LMTextList\n",
              "xxbos dekho @rahulgandhi aur @incindia ke gunde kaise @republic ke reporters ko bhaga rahe hai , kejriwal ki kasam baaki saare bikau liberal pakistan parast media houses aur unke journalists ke muh mein dahi jam jaayega . no intolerance no debates no chest xxunk # loksabhaelections   …,xxbos isko kaho ye nakli morality apne pichwade mai daal le,xxbos behen ji please mujhe maaf karein . aap sarcasm ke naam pe casteism ka xxunk bana lijiye . shubh ratri,xxbos so called dalit sirf itna bata de ki raja ke daan se padhne wala aadmi xxunk jaati ka dushman kaise bana aur unki dusri biwi ke bare mein kya khayal hai unke , jabki unke hi khandaan ke log ab dalit ke neta bane phir rahe hai,xxbos iss admi ko apna gotra nahi pata or ye hindu dharma ko acche see samajhta hai . joke of the century\n",
              "y: LMLabelList\n",
              ",,,,\n",
              "Path: .;\n",
              "\n",
              "Test: None, model=SequentialRNN(\n",
              "  (0): AWD_LSTM(\n",
              "    (encoder): Embedding(60000, 400, padding_idx=1)\n",
              "    (encoder_dp): EmbeddingDropout(\n",
              "      (emb): Embedding(60000, 400, padding_idx=1)\n",
              "    )\n",
              "    (rnns): ModuleList(\n",
              "      (0): WeightDropout(\n",
              "        (module): LSTM(400, 1152, batch_first=True)\n",
              "      )\n",
              "      (1): WeightDropout(\n",
              "        (module): LSTM(1152, 1152, batch_first=True)\n",
              "      )\n",
              "      (2): WeightDropout(\n",
              "        (module): LSTM(1152, 400, batch_first=True)\n",
              "      )\n",
              "    )\n",
              "    (input_dp): RNNDropout()\n",
              "    (hidden_dps): ModuleList(\n",
              "      (0): RNNDropout()\n",
              "      (1): RNNDropout()\n",
              "      (2): RNNDropout()\n",
              "    )\n",
              "  )\n",
              "  (1): LinearDecoder(\n",
              "    (decoder): Linear(in_features=400, out_features=60000, bias=True)\n",
              "    (output_dp): RNNDropout()\n",
              "  )\n",
              "), opt_func=functools.partial(<class 'torch.optim.adam.Adam'>, betas=(0.9, 0.99)), loss_func=FlattenedLoss of CrossEntropyLoss(), metrics=[<function accuracy at 0x7fa8d17d0378>], true_wd=True, bn_wd=True, wd=0.01, train_bn=True, path=PosixPath('.'), model_dir='models', callback_fns=[functools.partial(<class 'fastai.basic_train.Recorder'>, add_time=True, silent=False)], callbacks=[...], layer_groups=[Sequential(\n",
              "  (0): WeightDropout(\n",
              "    (module): LSTM(400, 1152, batch_first=True)\n",
              "  )\n",
              "  (1): RNNDropout()\n",
              "), Sequential(\n",
              "  (0): WeightDropout(\n",
              "    (module): LSTM(1152, 1152, batch_first=True)\n",
              "  )\n",
              "  (1): RNNDropout()\n",
              "), Sequential(\n",
              "  (0): WeightDropout(\n",
              "    (module): LSTM(1152, 400, batch_first=True)\n",
              "  )\n",
              "  (1): RNNDropout()\n",
              "), Sequential(\n",
              "  (0): Embedding(60000, 400, padding_idx=1)\n",
              "  (1): EmbeddingDropout(\n",
              "    (emb): Embedding(60000, 400, padding_idx=1)\n",
              "  )\n",
              "  (2): LinearDecoder(\n",
              "    (decoder): Linear(in_features=400, out_features=60000, bias=True)\n",
              "    (output_dp): RNNDropout()\n",
              "  )\n",
              ")], add_time=True, silent=False)\n",
              "alpha: 2.0\n",
              "beta: 1.0, MixedPrecision\n",
              "learn: LanguageLearner(data=TextLMDataBunch;\n",
              "\n",
              "Train: LabelList (275632 items)\n",
              "x: LMTextList\n",
              "xxbos xxunk xxunk xxunk xxunk xxunk naya pakistan dy bhai,xxbos tu haramkhor hai hi gadaar , jahan khata waheen gand kerta hai kuttay dollar khor,xxbos kashmir to karachi # xxunk,xxbos sir ap log yani pak army is mulk ko bacha len xxunk pyarey army bhaiyon ki qurbaniyon ko bacha xxunk i love you pak army,xxbos nawaz sahab ko deel saqib nissar dy rahy thy jub nai li apni waif ko nazuk halat ma chor k pakistan mai akr jail jana qabool kr lia abhi nawaz sahab ny deel nai tibi xxunk pe jo unka haq ha us k lea xxunk ki thi jo reject kr di gai deel pti krna chahati ha nawaz nai\n",
              "y: LMLabelList\n",
              ",,,,\n",
              "Path: .;\n",
              "\n",
              "Valid: LabelList (30626 items)\n",
              "x: LMTextList\n",
              "xxbos dekho @rahulgandhi aur @incindia ke gunde kaise @republic ke reporters ko bhaga rahe hai , kejriwal ki kasam baaki saare bikau liberal pakistan parast media houses aur unke journalists ke muh mein dahi jam jaayega . no intolerance no debates no chest xxunk # loksabhaelections   …,xxbos isko kaho ye nakli morality apne pichwade mai daal le,xxbos behen ji please mujhe maaf karein . aap sarcasm ke naam pe casteism ka xxunk bana lijiye . shubh ratri,xxbos so called dalit sirf itna bata de ki raja ke daan se padhne wala aadmi xxunk jaati ka dushman kaise bana aur unki dusri biwi ke bare mein kya khayal hai unke , jabki unke hi khandaan ke log ab dalit ke neta bane phir rahe hai,xxbos iss admi ko apna gotra nahi pata or ye hindu dharma ko acche see samajhta hai . joke of the century\n",
              "y: LMLabelList\n",
              ",,,,\n",
              "Path: .;\n",
              "\n",
              "Test: None, model=SequentialRNN(\n",
              "  (0): AWD_LSTM(\n",
              "    (encoder): Embedding(60000, 400, padding_idx=1)\n",
              "    (encoder_dp): EmbeddingDropout(\n",
              "      (emb): Embedding(60000, 400, padding_idx=1)\n",
              "    )\n",
              "    (rnns): ModuleList(\n",
              "      (0): WeightDropout(\n",
              "        (module): LSTM(400, 1152, batch_first=True)\n",
              "      )\n",
              "      (1): WeightDropout(\n",
              "        (module): LSTM(1152, 1152, batch_first=True)\n",
              "      )\n",
              "      (2): WeightDropout(\n",
              "        (module): LSTM(1152, 400, batch_first=True)\n",
              "      )\n",
              "    )\n",
              "    (input_dp): RNNDropout()\n",
              "    (hidden_dps): ModuleList(\n",
              "      (0): RNNDropout()\n",
              "      (1): RNNDropout()\n",
              "      (2): RNNDropout()\n",
              "    )\n",
              "  )\n",
              "  (1): LinearDecoder(\n",
              "    (decoder): Linear(in_features=400, out_features=60000, bias=True)\n",
              "    (output_dp): RNNDropout()\n",
              "  )\n",
              "), opt_func=functools.partial(<class 'torch.optim.adam.Adam'>, betas=(0.9, 0.99)), loss_func=FlattenedLoss of CrossEntropyLoss(), metrics=[<function accuracy at 0x7fa8d17d0378>], true_wd=True, bn_wd=True, wd=0.01, train_bn=True, path=PosixPath('.'), model_dir='models', callback_fns=[functools.partial(<class 'fastai.basic_train.Recorder'>, add_time=True, silent=False)], callbacks=[...], layer_groups=[Sequential(\n",
              "  (0): WeightDropout(\n",
              "    (module): LSTM(400, 1152, batch_first=True)\n",
              "  )\n",
              "  (1): RNNDropout()\n",
              "), Sequential(\n",
              "  (0): WeightDropout(\n",
              "    (module): LSTM(1152, 1152, batch_first=True)\n",
              "  )\n",
              "  (1): RNNDropout()\n",
              "), Sequential(\n",
              "  (0): WeightDropout(\n",
              "    (module): LSTM(1152, 400, batch_first=True)\n",
              "  )\n",
              "  (1): RNNDropout()\n",
              "), Sequential(\n",
              "  (0): Embedding(60000, 400, padding_idx=1)\n",
              "  (1): EmbeddingDropout(\n",
              "    (emb): Embedding(60000, 400, padding_idx=1)\n",
              "  )\n",
              "  (2): LinearDecoder(\n",
              "    (decoder): Linear(in_features=400, out_features=60000, bias=True)\n",
              "    (output_dp): RNNDropout()\n",
              "  )\n",
              ")], add_time=True, silent=False)\n",
              "loss_scale: 65536\n",
              "max_noskip: 1000\n",
              "dynamic: True\n",
              "clip: None\n",
              "flat_master: False\n",
              "max_scale: 16777216\n",
              "loss_fp32: True], layer_groups=[Sequential(\n",
              "  (0): WeightDropout(\n",
              "    (module): LSTM(400, 1152, batch_first=True)\n",
              "  )\n",
              "  (1): RNNDropout()\n",
              "), Sequential(\n",
              "  (0): WeightDropout(\n",
              "    (module): LSTM(1152, 1152, batch_first=True)\n",
              "  )\n",
              "  (1): RNNDropout()\n",
              "), Sequential(\n",
              "  (0): WeightDropout(\n",
              "    (module): LSTM(1152, 400, batch_first=True)\n",
              "  )\n",
              "  (1): RNNDropout()\n",
              "), Sequential(\n",
              "  (0): Embedding(60000, 400, padding_idx=1)\n",
              "  (1): EmbeddingDropout(\n",
              "    (emb): Embedding(60000, 400, padding_idx=1)\n",
              "  )\n",
              "  (2): LinearDecoder(\n",
              "    (decoder): Linear(in_features=400, out_features=60000, bias=True)\n",
              "    (output_dp): RNNDropout()\n",
              "  )\n",
              ")], add_time=True, silent=False)"
            ]
          },
          "metadata": {
            "tags": []
          },
          "execution_count": 13
        }
      ]
    },
    {
      "cell_type": "code",
      "metadata": {
        "id": "vmCBf6aQ9X0J",
        "colab_type": "code",
        "outputId": "951ffd50-65a2-43d5-d401-65da9f10fc5c",
        "colab": {
          "base_uri": "https://localhost:8080/",
          "height": 408
        }
      },
      "source": [
        "learn.lr_find()\n",
        "learn.recorder.plot(suggestion=True)\n",
        "min_grad_lr = learn.recorder.min_grad_lr"
      ],
      "execution_count": 14,
      "outputs": [
        {
          "output_type": "display_data",
          "data": {
            "text/html": [
              "\n",
              "    <div>\n",
              "        <style>\n",
              "            /* Turns off some styling */\n",
              "            progress {\n",
              "                /* gets rid of default border in Firefox and Opera. */\n",
              "                border: none;\n",
              "                /* Needs to be in here for Safari polyfill so background images work as expected. */\n",
              "                background-size: auto;\n",
              "            }\n",
              "            .progress-bar-interrupted, .progress-bar-interrupted::-webkit-progress-bar {\n",
              "                background: #F44336;\n",
              "            }\n",
              "        </style>\n",
              "      <progress value='0' class='' max='1', style='width:300px; height:20px; vertical-align: middle;'></progress>\n",
              "      0.00% [0/1 00:00<00:00]\n",
              "    </div>\n",
              "    \n",
              "<table border=\"1\" class=\"dataframe\">\n",
              "  <thead>\n",
              "    <tr style=\"text-align: left;\">\n",
              "      <th>epoch</th>\n",
              "      <th>train_loss</th>\n",
              "      <th>valid_loss</th>\n",
              "      <th>accuracy</th>\n",
              "      <th>time</th>\n",
              "    </tr>\n",
              "  </thead>\n",
              "  <tbody>\n",
              "  </tbody>\n",
              "</table><p>\n",
              "\n",
              "    <div>\n",
              "        <style>\n",
              "            /* Turns off some styling */\n",
              "            progress {\n",
              "                /* gets rid of default border in Firefox and Opera. */\n",
              "                border: none;\n",
              "                /* Needs to be in here for Safari polyfill so background images work as expected. */\n",
              "                background-size: auto;\n",
              "            }\n",
              "            .progress-bar-interrupted, .progress-bar-interrupted::-webkit-progress-bar {\n",
              "                background: #F44336;\n",
              "            }\n",
              "        </style>\n",
              "      <progress value='99' class='' max='1250', style='width:300px; height:20px; vertical-align: middle;'></progress>\n",
              "      7.92% [99/1250 00:15<02:59 13.9789]\n",
              "    </div>\n",
              "    "
            ],
            "text/plain": [
              "<IPython.core.display.HTML object>"
            ]
          },
          "metadata": {
            "tags": []
          }
        },
        {
          "output_type": "stream",
          "text": [
            "LR Finder is complete, type {learner_name}.recorder.plot() to see the graph.\n",
            "Min numerical gradient: 1.58E-02\n",
            "Min loss divided by 10: 6.31E-02\n"
          ],
          "name": "stdout"
        },
        {
          "output_type": "display_data",
          "data": {
            "image/png": "[encoded data removed]",
            "text/plain": [
              "<Figure size 432x288 with 1 Axes>"
            ]
          },
          "metadata": {
            "tags": []
          }
        }
      ]
    },
    {
      "cell_type": "code",
      "metadata": {
        "id": "dQoyexxK9bV5",
        "colab_type": "code",
        "outputId": "7f781d0c-a167-49e1-fec1-dd27f4b6e440",
        "colab": {
          "base_uri": "https://localhost:8080/",
          "height": 106
        }
      },
      "source": [
        "learn.fit_one_cycle(2, min_grad_lr)"
      ],
      "execution_count": 15,
      "outputs": [
        {
          "output_type": "display_data",
          "data": {
            "text/html": [
              "<table border=\"1\" class=\"dataframe\">\n",
              "  <thead>\n",
              "    <tr style=\"text-align: left;\">\n",
              "      <th>epoch</th>\n",
              "      <th>train_loss</th>\n",
              "      <th>valid_loss</th>\n",
              "      <th>accuracy</th>\n",
              "      <th>time</th>\n",
              "    </tr>\n",
              "  </thead>\n",
              "  <tbody>\n",
              "    <tr>\n",
              "      <td>0</td>\n",
              "      <td>6.068420</td>\n",
              "      <td>5.868133</td>\n",
              "      <td>0.167586</td>\n",
              "      <td>03:28</td>\n",
              "    </tr>\n",
              "    <tr>\n",
              "      <td>1</td>\n",
              "      <td>5.695904</td>\n",
              "      <td>5.652025</td>\n",
              "      <td>0.183308</td>\n",
              "      <td>03:32</td>\n",
              "    </tr>\n",
              "  </tbody>\n",
              "</table>"
            ],
            "text/plain": [
              "<IPython.core.display.HTML object>"
            ]
          },
          "metadata": {
            "tags": []
          }
        }
      ]
    },
    {
      "cell_type": "code",
      "metadata": {
        "id": "sp0jzmcR9cF6",
        "colab_type": "code",
        "outputId": "43ab7d62-3853-433d-da13-fdd6524a0fff",
        "colab": {
          "base_uri": "https://localhost:8080/",
          "height": 195
        }
      },
      "source": [
        "learn.unfreeze()\n",
        "learn.fit_one_cycle(5, 1e-3)"
      ],
      "execution_count": 16,
      "outputs": [
        {
          "output_type": "display_data",
          "data": {
            "text/html": [
              "<table border=\"1\" class=\"dataframe\">\n",
              "  <thead>\n",
              "    <tr style=\"text-align: left;\">\n",
              "      <th>epoch</th>\n",
              "      <th>train_loss</th>\n",
              "      <th>valid_loss</th>\n",
              "      <th>accuracy</th>\n",
              "      <th>time</th>\n",
              "    </tr>\n",
              "  </thead>\n",
              "  <tbody>\n",
              "    <tr>\n",
              "      <td>0</td>\n",
              "      <td>5.306088</td>\n",
              "      <td>5.450472</td>\n",
              "      <td>0.199499</td>\n",
              "      <td>03:57</td>\n",
              "    </tr>\n",
              "    <tr>\n",
              "      <td>1</td>\n",
              "      <td>5.192542</td>\n",
              "      <td>5.306155</td>\n",
              "      <td>0.213978</td>\n",
              "      <td>03:58</td>\n",
              "    </tr>\n",
              "    <tr>\n",
              "      <td>2</td>\n",
              "      <td>4.995543</td>\n",
              "      <td>5.238440</td>\n",
              "      <td>0.222640</td>\n",
              "      <td>03:57</td>\n",
              "    </tr>\n",
              "    <tr>\n",
              "      <td>3</td>\n",
              "      <td>4.783431</td>\n",
              "      <td>5.227170</td>\n",
              "      <td>0.226424</td>\n",
              "      <td>03:57</td>\n",
              "    </tr>\n",
              "    <tr>\n",
              "      <td>4</td>\n",
              "      <td>4.635411</td>\n",
              "      <td>5.243537</td>\n",
              "      <td>0.226336</td>\n",
              "      <td>03:57</td>\n",
              "    </tr>\n",
              "  </tbody>\n",
              "</table>"
            ],
            "text/plain": [
              "<IPython.core.display.HTML object>"
            ]
          },
          "metadata": {
            "tags": []
          }
        }
      ]
    },
    {
      "cell_type": "code",
      "metadata": {
        "id": "h6mBSac69hDA",
        "colab_type": "code",
        "outputId": "c670a015-5e6a-48a3-b801-2cdd6ccdd8d8",
        "colab": {
          "base_uri": "https://localhost:8080/",
          "height": 34
        }
      },
      "source": [
        "learn.predict(\"How do\", n_words=10)"
      ],
      "execution_count": 17,
      "outputs": [
        {
          "output_type": "execute_result",
          "data": {
            "text/plain": [
              "'How do any something way \" duniya ki sabse ummid property ki'"
            ]
          },
          "metadata": {
            "tags": []
          },
          "execution_count": 17
        }
      ]
    },
    {
      "cell_type": "code",
      "metadata": {
        "id": "WgIcbM439kjI",
        "colab_type": "code",
        "colab": {}
      },
      "source": [
        "learn.save_encoder('ft_enc')"
      ],
      "execution_count": 0,
      "outputs": []
    },
    {
      "cell_type": "markdown",
      "metadata": {
        "colab_type": "text",
        "id": "lXJu58NK5apE"
      },
      "source": [
        "3.2 Task LM pretraining"
      ]
    },
    {
      "cell_type": "code",
      "metadata": {
        "colab_type": "code",
        "outputId": "7ff5354f-ffce-4f90-fa86-44436ad1ee6c",
        "id": "Xo9_n8zp5apG",
        "colab": {
          "base_uri": "https://localhost:8080/",
          "height": 1000
        }
      },
      "source": [
        "learn = language_model_learner(data_lm_task, AWD_LSTM, drop_mult=0.3)\n",
        "learn.load_encoder('ft_enc')\n",
        "learn.to_fp16()"
      ],
      "execution_count": 19,
      "outputs": [
        {
          "output_type": "execute_result",
          "data": {
            "text/plain": [
              "LanguageLearner(data=TextLMDataBunch;\n",
              "\n",
              "Train: LabelList (14000 items)\n",
              "x: LMTextList\n",
              "xxbos nen xxunk vist xxunk xxunk xxunk xxunk xxunk xxunk lost xxunk xxunk j a xxunk jen xxunk xxmaj asi xxunk xxunk xxunk m xxunk j life ...,xxbos xxunk xxmaj haan yaar neha xxunk xxunk kab karega woh post xxunk xxmaj usne na sach mein photoshoot karna chahiye phir woh post karega,xxbos @rahulgandhi television media congress ke liye nhi h . xxmaj ye toh aapko pata chal hi gya hoga . xxmaj achha hoga ki xxmaj congress ke,xxbos @amitshah @narendramodi xxmaj all xxmaj india me nrc lagu kare w xxmaj kashmir se dhara ko khatam kare ham xxmaj indian ko apse yahi umid hai,xxbos @nehr_who xxunk @anjanaomkashyap xxmaj pagal hai kya ? xxmaj they xxunk ’ t real issues xxmaj mandir is important xxmaj hindu khatre mei jo hai !\n",
              "y: LMLabelList\n",
              ",,,,\n",
              "Path: .;\n",
              "\n",
              "Valid: LabelList (3000 items)\n",
              "x: LMTextList\n",
              "xxbos xxunk modi xxunk may samil honay par badhai xxunk har,xxbos xxunk @tajinderbagga xxunk xxunk @shehla_rashid @tajinderbagga xxmaj tu toh xxunk hai xxmaj mare h,xxbos @waglenikhil u saw caste and religion in them ... nation saw talent and trust in them ! ! .. problem is tum paida hi ulte hue the ! !,xxbos @delhipolice sir local police station pe complaint krne par bi sunwai nhi hai .. mene may xxmaj ko complaint karwai,xxbos xxmaj ve xxmaj maahi song from # xxmaj kesari is current favourite ! # xxmaj music # xxmaj melody # arijitsingh xxunk you are becoming my xxunk\n",
              "y: LMLabelList\n",
              ",,,,\n",
              "Path: .;\n",
              "\n",
              "Test: None, model=SequentialRNN(\n",
              "  (0): AWD_LSTM(\n",
              "    (encoder): Embedding(60000, 400, padding_idx=1)\n",
              "    (encoder_dp): EmbeddingDropout(\n",
              "      (emb): Embedding(60000, 400, padding_idx=1)\n",
              "    )\n",
              "    (rnns): ModuleList(\n",
              "      (0): WeightDropout(\n",
              "        (module): LSTM(400, 1152, batch_first=True)\n",
              "      )\n",
              "      (1): WeightDropout(\n",
              "        (module): LSTM(1152, 1152, batch_first=True)\n",
              "      )\n",
              "      (2): WeightDropout(\n",
              "        (module): LSTM(1152, 400, batch_first=True)\n",
              "      )\n",
              "    )\n",
              "    (input_dp): RNNDropout()\n",
              "    (hidden_dps): ModuleList(\n",
              "      (0): RNNDropout()\n",
              "      (1): RNNDropout()\n",
              "      (2): RNNDropout()\n",
              "    )\n",
              "  )\n",
              "  (1): LinearDecoder(\n",
              "    (decoder): Linear(in_features=400, out_features=60000, bias=True)\n",
              "    (output_dp): RNNDropout()\n",
              "  )\n",
              "), opt_func=functools.partial(<class 'torch.optim.adam.Adam'>, betas=(0.9, 0.99)), loss_func=FlattenedLoss of CrossEntropyLoss(), metrics=[<function accuracy at 0x7fa8d17d0378>], true_wd=True, bn_wd=True, wd=0.01, train_bn=True, path=PosixPath('.'), model_dir='models', callback_fns=[functools.partial(<class 'fastai.basic_train.Recorder'>, add_time=True, silent=False)], callbacks=[RNNTrainer\n",
              "learn: LanguageLearner(data=TextLMDataBunch;\n",
              "\n",
              "Train: LabelList (14000 items)\n",
              "x: LMTextList\n",
              "xxbos nen xxunk vist xxunk xxunk xxunk xxunk xxunk xxunk lost xxunk xxunk j a xxunk jen xxunk xxmaj asi xxunk xxunk xxunk m xxunk j life ...,xxbos xxunk xxmaj haan yaar neha xxunk xxunk kab karega woh post xxunk xxmaj usne na sach mein photoshoot karna chahiye phir woh post karega,xxbos @rahulgandhi television media congress ke liye nhi h . xxmaj ye toh aapko pata chal hi gya hoga . xxmaj achha hoga ki xxmaj congress ke,xxbos @amitshah @narendramodi xxmaj all xxmaj india me nrc lagu kare w xxmaj kashmir se dhara ko khatam kare ham xxmaj indian ko apse yahi umid hai,xxbos @nehr_who xxunk @anjanaomkashyap xxmaj pagal hai kya ? xxmaj they xxunk ’ t real issues xxmaj mandir is important xxmaj hindu khatre mei jo hai !\n",
              "y: LMLabelList\n",
              ",,,,\n",
              "Path: .;\n",
              "\n",
              "Valid: LabelList (3000 items)\n",
              "x: LMTextList\n",
              "xxbos xxunk modi xxunk may samil honay par badhai xxunk har,xxbos xxunk @tajinderbagga xxunk xxunk @shehla_rashid @tajinderbagga xxmaj tu toh xxunk hai xxmaj mare h,xxbos @waglenikhil u saw caste and religion in them ... nation saw talent and trust in them ! ! .. problem is tum paida hi ulte hue the ! !,xxbos @delhipolice sir local police station pe complaint krne par bi sunwai nhi hai .. mene may xxmaj ko complaint karwai,xxbos xxmaj ve xxmaj maahi song from # xxmaj kesari is current favourite ! # xxmaj music # xxmaj melody # arijitsingh xxunk you are becoming my xxunk\n",
              "y: LMLabelList\n",
              ",,,,\n",
              "Path: .;\n",
              "\n",
              "Test: None, model=SequentialRNN(\n",
              "  (0): AWD_LSTM(\n",
              "    (encoder): Embedding(60000, 400, padding_idx=1)\n",
              "    (encoder_dp): EmbeddingDropout(\n",
              "      (emb): Embedding(60000, 400, padding_idx=1)\n",
              "    )\n",
              "    (rnns): ModuleList(\n",
              "      (0): WeightDropout(\n",
              "        (module): LSTM(400, 1152, batch_first=True)\n",
              "      )\n",
              "      (1): WeightDropout(\n",
              "        (module): LSTM(1152, 1152, batch_first=True)\n",
              "      )\n",
              "      (2): WeightDropout(\n",
              "        (module): LSTM(1152, 400, batch_first=True)\n",
              "      )\n",
              "    )\n",
              "    (input_dp): RNNDropout()\n",
              "    (hidden_dps): ModuleList(\n",
              "      (0): RNNDropout()\n",
              "      (1): RNNDropout()\n",
              "      (2): RNNDropout()\n",
              "    )\n",
              "  )\n",
              "  (1): LinearDecoder(\n",
              "    (decoder): Linear(in_features=400, out_features=60000, bias=True)\n",
              "    (output_dp): RNNDropout()\n",
              "  )\n",
              "), opt_func=functools.partial(<class 'torch.optim.adam.Adam'>, betas=(0.9, 0.99)), loss_func=FlattenedLoss of CrossEntropyLoss(), metrics=[<function accuracy at 0x7fa8d17d0378>], true_wd=True, bn_wd=True, wd=0.01, train_bn=True, path=PosixPath('.'), model_dir='models', callback_fns=[functools.partial(<class 'fastai.basic_train.Recorder'>, add_time=True, silent=False)], callbacks=[...], layer_groups=[Sequential(\n",
              "  (0): WeightDropout(\n",
              "    (module): LSTM(400, 1152, batch_first=True)\n",
              "  )\n",
              "  (1): RNNDropout()\n",
              "), Sequential(\n",
              "  (0): WeightDropout(\n",
              "    (module): LSTM(1152, 1152, batch_first=True)\n",
              "  )\n",
              "  (1): RNNDropout()\n",
              "), Sequential(\n",
              "  (0): WeightDropout(\n",
              "    (module): LSTM(1152, 400, batch_first=True)\n",
              "  )\n",
              "  (1): RNNDropout()\n",
              "), Sequential(\n",
              "  (0): Embedding(60000, 400, padding_idx=1)\n",
              "  (1): EmbeddingDropout(\n",
              "    (emb): Embedding(60000, 400, padding_idx=1)\n",
              "  )\n",
              "  (2): LinearDecoder(\n",
              "    (decoder): Linear(in_features=400, out_features=60000, bias=True)\n",
              "    (output_dp): RNNDropout()\n",
              "  )\n",
              ")], add_time=True, silent=False)\n",
              "alpha: 2.0\n",
              "beta: 1.0, MixedPrecision\n",
              "learn: LanguageLearner(data=TextLMDataBunch;\n",
              "\n",
              "Train: LabelList (14000 items)\n",
              "x: LMTextList\n",
              "xxbos nen xxunk vist xxunk xxunk xxunk xxunk xxunk xxunk lost xxunk xxunk j a xxunk jen xxunk xxmaj asi xxunk xxunk xxunk m xxunk j life ...,xxbos xxunk xxmaj haan yaar neha xxunk xxunk kab karega woh post xxunk xxmaj usne na sach mein photoshoot karna chahiye phir woh post karega,xxbos @rahulgandhi television media congress ke liye nhi h . xxmaj ye toh aapko pata chal hi gya hoga . xxmaj achha hoga ki xxmaj congress ke,xxbos @amitshah @narendramodi xxmaj all xxmaj india me nrc lagu kare w xxmaj kashmir se dhara ko khatam kare ham xxmaj indian ko apse yahi umid hai,xxbos @nehr_who xxunk @anjanaomkashyap xxmaj pagal hai kya ? xxmaj they xxunk ’ t real issues xxmaj mandir is important xxmaj hindu khatre mei jo hai !\n",
              "y: LMLabelList\n",
              ",,,,\n",
              "Path: .;\n",
              "\n",
              "Valid: LabelList (3000 items)\n",
              "x: LMTextList\n",
              "xxbos xxunk modi xxunk may samil honay par badhai xxunk har,xxbos xxunk @tajinderbagga xxunk xxunk @shehla_rashid @tajinderbagga xxmaj tu toh xxunk hai xxmaj mare h,xxbos @waglenikhil u saw caste and religion in them ... nation saw talent and trust in them ! ! .. problem is tum paida hi ulte hue the ! !,xxbos @delhipolice sir local police station pe complaint krne par bi sunwai nhi hai .. mene may xxmaj ko complaint karwai,xxbos xxmaj ve xxmaj maahi song from # xxmaj kesari is current favourite ! # xxmaj music # xxmaj melody # arijitsingh xxunk you are becoming my xxunk\n",
              "y: LMLabelList\n",
              ",,,,\n",
              "Path: .;\n",
              "\n",
              "Test: None, model=SequentialRNN(\n",
              "  (0): AWD_LSTM(\n",
              "    (encoder): Embedding(60000, 400, padding_idx=1)\n",
              "    (encoder_dp): EmbeddingDropout(\n",
              "      (emb): Embedding(60000, 400, padding_idx=1)\n",
              "    )\n",
              "    (rnns): ModuleList(\n",
              "      (0): WeightDropout(\n",
              "        (module): LSTM(400, 1152, batch_first=True)\n",
              "      )\n",
              "      (1): WeightDropout(\n",
              "        (module): LSTM(1152, 1152, batch_first=True)\n",
              "      )\n",
              "      (2): WeightDropout(\n",
              "        (module): LSTM(1152, 400, batch_first=True)\n",
              "      )\n",
              "    )\n",
              "    (input_dp): RNNDropout()\n",
              "    (hidden_dps): ModuleList(\n",
              "      (0): RNNDropout()\n",
              "      (1): RNNDropout()\n",
              "      (2): RNNDropout()\n",
              "    )\n",
              "  )\n",
              "  (1): LinearDecoder(\n",
              "    (decoder): Linear(in_features=400, out_features=60000, bias=True)\n",
              "    (output_dp): RNNDropout()\n",
              "  )\n",
              "), opt_func=functools.partial(<class 'torch.optim.adam.Adam'>, betas=(0.9, 0.99)), loss_func=FlattenedLoss of CrossEntropyLoss(), metrics=[<function accuracy at 0x7fa8d17d0378>], true_wd=True, bn_wd=True, wd=0.01, train_bn=True, path=PosixPath('.'), model_dir='models', callback_fns=[functools.partial(<class 'fastai.basic_train.Recorder'>, add_time=True, silent=False)], callbacks=[...], layer_groups=[Sequential(\n",
              "  (0): WeightDropout(\n",
              "    (module): LSTM(400, 1152, batch_first=True)\n",
              "  )\n",
              "  (1): RNNDropout()\n",
              "), Sequential(\n",
              "  (0): WeightDropout(\n",
              "    (module): LSTM(1152, 1152, batch_first=True)\n",
              "  )\n",
              "  (1): RNNDropout()\n",
              "), Sequential(\n",
              "  (0): WeightDropout(\n",
              "    (module): LSTM(1152, 400, batch_first=True)\n",
              "  )\n",
              "  (1): RNNDropout()\n",
              "), Sequential(\n",
              "  (0): Embedding(60000, 400, padding_idx=1)\n",
              "  (1): EmbeddingDropout(\n",
              "    (emb): Embedding(60000, 400, padding_idx=1)\n",
              "  )\n",
              "  (2): LinearDecoder(\n",
              "    (decoder): Linear(in_features=400, out_features=60000, bias=True)\n",
              "    (output_dp): RNNDropout()\n",
              "  )\n",
              ")], add_time=True, silent=False)\n",
              "loss_scale: 65536\n",
              "max_noskip: 1000\n",
              "dynamic: True\n",
              "clip: None\n",
              "flat_master: False\n",
              "max_scale: 16777216\n",
              "loss_fp32: True], layer_groups=[Sequential(\n",
              "  (0): WeightDropout(\n",
              "    (module): LSTM(400, 1152, batch_first=True)\n",
              "  )\n",
              "  (1): RNNDropout()\n",
              "), Sequential(\n",
              "  (0): WeightDropout(\n",
              "    (module): LSTM(1152, 1152, batch_first=True)\n",
              "  )\n",
              "  (1): RNNDropout()\n",
              "), Sequential(\n",
              "  (0): WeightDropout(\n",
              "    (module): LSTM(1152, 400, batch_first=True)\n",
              "  )\n",
              "  (1): RNNDropout()\n",
              "), Sequential(\n",
              "  (0): Embedding(60000, 400, padding_idx=1)\n",
              "  (1): EmbeddingDropout(\n",
              "    (emb): Embedding(60000, 400, padding_idx=1)\n",
              "  )\n",
              "  (2): LinearDecoder(\n",
              "    (decoder): Linear(in_features=400, out_features=60000, bias=True)\n",
              "    (output_dp): RNNDropout()\n",
              "  )\n",
              ")], add_time=True, silent=False)"
            ]
          },
          "metadata": {
            "tags": []
          },
          "execution_count": 19
        }
      ]
    },
    {
      "cell_type": "code",
      "metadata": {
        "colab_type": "code",
        "outputId": "d2cddd80-c6c1-4ab3-eef9-dd7a2abaef01",
        "id": "xxledFac5apK",
        "colab": {
          "base_uri": "https://localhost:8080/",
          "height": 438
        }
      },
      "source": [
        "learn.lr_find()\n",
        "learn.recorder.plot(suggestion=True)\n",
        "min_grad_lr = learn.recorder.min_grad_lr"
      ],
      "execution_count": 20,
      "outputs": [
        {
          "output_type": "display_data",
          "data": {
            "text/html": [
              "\n",
              "    <div>\n",
              "        <style>\n",
              "            /* Turns off some styling */\n",
              "            progress {\n",
              "                /* gets rid of default border in Firefox and Opera. */\n",
              "                border: none;\n",
              "                /* Needs to be in here for Safari polyfill so background images work as expected. */\n",
              "                background-size: auto;\n",
              "            }\n",
              "            .progress-bar-interrupted, .progress-bar-interrupted::-webkit-progress-bar {\n",
              "                background: #F44336;\n",
              "            }\n",
              "        </style>\n",
              "      <progress value='1' class='' max='2', style='width:300px; height:20px; vertical-align: middle;'></progress>\n",
              "      50.00% [1/2 00:12<00:12]\n",
              "    </div>\n",
              "    \n",
              "<table border=\"1\" class=\"dataframe\">\n",
              "  <thead>\n",
              "    <tr style=\"text-align: left;\">\n",
              "      <th>epoch</th>\n",
              "      <th>train_loss</th>\n",
              "      <th>valid_loss</th>\n",
              "      <th>accuracy</th>\n",
              "      <th>time</th>\n",
              "    </tr>\n",
              "  </thead>\n",
              "  <tbody>\n",
              "    <tr>\n",
              "      <td>0</td>\n",
              "      <td>7.344615</td>\n",
              "      <td>#na#</td>\n",
              "      <td>00:12</td>\n",
              "    </tr>\n",
              "  </tbody>\n",
              "</table><p>\n",
              "\n",
              "    <div>\n",
              "        <style>\n",
              "            /* Turns off some styling */\n",
              "            progress {\n",
              "                /* gets rid of default border in Firefox and Opera. */\n",
              "                border: none;\n",
              "                /* Needs to be in here for Safari polyfill so background images work as expected. */\n",
              "                background-size: auto;\n",
              "            }\n",
              "            .progress-bar-interrupted, .progress-bar-interrupted::-webkit-progress-bar {\n",
              "                background: #F44336;\n",
              "            }\n",
              "        </style>\n",
              "      <progress value='21' class='' max='78', style='width:300px; height:20px; vertical-align: middle;'></progress>\n",
              "      26.92% [21/78 00:03<00:09 9.9640]\n",
              "    </div>\n",
              "    "
            ],
            "text/plain": [
              "<IPython.core.display.HTML object>"
            ]
          },
          "metadata": {
            "tags": []
          }
        },
        {
          "output_type": "stream",
          "text": [
            "LR Finder is complete, type {learner_name}.recorder.plot() to see the graph.\n",
            "Min numerical gradient: 1.74E-01\n",
            "Min loss divided by 10: 7.59E-02\n"
          ],
          "name": "stdout"
        },
        {
          "output_type": "display_data",
          "data": {
            "image/png": "[encoded data removed]",
            "text/plain": [
              "<Figure size 432x288 with 1 Axes>"
            ]
          },
          "metadata": {
            "tags": []
          }
        }
      ]
    },
    {
      "cell_type": "code",
      "metadata": {
        "colab_type": "code",
        "outputId": "5dd09e33-0619-452f-b27e-2098ad9fbd0c",
        "id": "Hdew2KCo5apO",
        "colab": {
          "base_uri": "https://localhost:8080/",
          "height": 106
        }
      },
      "source": [
        "learn.fit_one_cycle(2, min_grad_lr)"
      ],
      "execution_count": 21,
      "outputs": [
        {
          "output_type": "display_data",
          "data": {
            "text/html": [
              "<table border=\"1\" class=\"dataframe\">\n",
              "  <thead>\n",
              "    <tr style=\"text-align: left;\">\n",
              "      <th>epoch</th>\n",
              "      <th>train_loss</th>\n",
              "      <th>valid_loss</th>\n",
              "      <th>accuracy</th>\n",
              "      <th>time</th>\n",
              "    </tr>\n",
              "  </thead>\n",
              "  <tbody>\n",
              "    <tr>\n",
              "      <td>0</td>\n",
              "      <td>6.192169</td>\n",
              "      <td>5.988268</td>\n",
              "      <td>0.190520</td>\n",
              "      <td>00:13</td>\n",
              "    </tr>\n",
              "    <tr>\n",
              "      <td>1</td>\n",
              "      <td>5.406957</td>\n",
              "      <td>5.727890</td>\n",
              "      <td>0.206736</td>\n",
              "      <td>00:13</td>\n",
              "    </tr>\n",
              "  </tbody>\n",
              "</table>"
            ],
            "text/plain": [
              "<IPython.core.display.HTML object>"
            ]
          },
          "metadata": {
            "tags": []
          }
        }
      ]
    },
    {
      "cell_type": "code",
      "metadata": {
        "colab_type": "code",
        "outputId": "18353eaf-bee6-4ed8-9298-d669fc73509f",
        "id": "T77vF4g05apQ",
        "colab": {
          "base_uri": "https://localhost:8080/",
          "height": 106
        }
      },
      "source": [
        "learn.unfreeze()\n",
        "learn.fit_one_cycle(2, 1e-3)"
      ],
      "execution_count": 22,
      "outputs": [
        {
          "output_type": "display_data",
          "data": {
            "text/html": [
              "<table border=\"1\" class=\"dataframe\">\n",
              "  <thead>\n",
              "    <tr style=\"text-align: left;\">\n",
              "      <th>epoch</th>\n",
              "      <th>train_loss</th>\n",
              "      <th>valid_loss</th>\n",
              "      <th>accuracy</th>\n",
              "      <th>time</th>\n",
              "    </tr>\n",
              "  </thead>\n",
              "  <tbody>\n",
              "    <tr>\n",
              "      <td>0</td>\n",
              "      <td>4.521132</td>\n",
              "      <td>5.497923</td>\n",
              "      <td>0.222623</td>\n",
              "      <td>00:15</td>\n",
              "    </tr>\n",
              "    <tr>\n",
              "      <td>1</td>\n",
              "      <td>4.270754</td>\n",
              "      <td>5.549344</td>\n",
              "      <td>0.224291</td>\n",
              "      <td>00:15</td>\n",
              "    </tr>\n",
              "  </tbody>\n",
              "</table>"
            ],
            "text/plain": [
              "<IPython.core.display.HTML object>"
            ]
          },
          "metadata": {
            "tags": []
          }
        }
      ]
    },
    {
      "cell_type": "code",
      "metadata": {
        "colab_type": "code",
        "outputId": "ee442ec4-ecab-492c-99eb-559ff59618a4",
        "id": "NDzxMSOO5apT",
        "colab": {
          "base_uri": "https://localhost:8080/",
          "height": 34
        }
      },
      "source": [
        "learn.predict(\"modi ji\", n_words=20)"
      ],
      "execution_count": 23,
      "outputs": [
        {
          "output_type": "execute_result",
          "data": {
            "text/plain": [
              "'modi ji hame dhajjiya tiwari meri taraf se aap ko lr sakti ho apko bahut bahut subhkamnaye karya appki subhkamnaye .'"
            ]
          },
          "metadata": {
            "tags": []
          },
          "execution_count": 23
        }
      ]
    },
    {
      "cell_type": "code",
      "metadata": {
        "colab_type": "code",
        "id": "b6Rog6TM5apW",
        "colab": {}
      },
      "source": [
        "learn.save_encoder('ft_enc')"
      ],
      "execution_count": 0,
      "outputs": []
    },
    {
      "cell_type": "markdown",
      "metadata": {
        "id": "-qfpJf2fXAQY",
        "colab_type": "text"
      },
      "source": [
        "## 4. Using the Language Model to Train the Classifier"
      ]
    },
    {
      "cell_type": "code",
      "metadata": {
        "id": "-dJUmbri9n3v",
        "colab_type": "code",
        "colab": {
          "base_uri": "https://localhost:8080/",
          "height": 1000
        },
        "outputId": "83a9cc16-bf33-43e8-a9f1-bba2b6f7546e"
      },
      "source": [
        "learn = text_classifier_learner(data_clas, AWD_LSTM, drop_mult=0.5)\n",
        "learn.to_fp16()\n",
        "learn.load_encoder('ft_enc')"
      ],
      "execution_count": 25,
      "outputs": [
        {
          "output_type": "execute_result",
          "data": {
            "text/plain": [
              "RNNLearner(data=TextClasDataBunch;\n",
              "\n",
              "Train: LabelList (14000 items)\n",
              "x: TextList\n",
              "xxbos nen xxunk vist xxunk xxunk xxunk xxunk xxunk xxunk lost xxunk xxunk j a xxunk jen xxunk xxmaj asi xxunk xxunk xxunk m xxunk j life ...,xxbos xxunk xxmaj haan yaar neha xxunk xxunk kab karega woh post xxunk xxmaj usne na sach mein photoshoot karna chahiye phir woh post karega,xxbos @rahulgandhi television media congress ke liye nhi h . xxmaj ye toh aapko pata chal hi gya hoga . xxmaj achha hoga ki xxmaj congress ke,xxbos @amitshah @narendramodi xxmaj all xxmaj india me nrc lagu kare w xxmaj kashmir se dhara ko khatam kare ham xxmaj indian ko apse yahi umid hai,xxbos @nehr_who xxunk @anjanaomkashyap xxmaj pagal hai kya ? xxmaj they xxunk ’ t real issues xxmaj mandir is important xxmaj hindu khatre mei jo hai !\n",
              "y: CategoryList\n",
              "neutral,neutral,negative,positive,neutral\n",
              "Path: .;\n",
              "\n",
              "Valid: LabelList (3000 items)\n",
              "x: TextList\n",
              "xxbos xxunk modi xxunk may samil honay par badhai xxunk har,xxbos xxunk @tajinderbagga xxunk xxunk @shehla_rashid @tajinderbagga xxmaj tu toh xxunk hai xxmaj mare h,xxbos @waglenikhil u saw caste and religion in them ... nation saw talent and trust in them ! ! .. problem is tum paida hi ulte hue the ! !,xxbos @delhipolice sir local police station pe complaint krne par bi sunwai nhi hai .. mene may xxmaj ko complaint karwai,xxbos xxmaj ve xxmaj maahi song from # xxmaj kesari is current favourite ! # xxmaj music # xxmaj melody # arijitsingh xxunk you are becoming my xxunk\n",
              "y: CategoryList\n",
              "positive,negative,negative,neutral,positive\n",
              "Path: .;\n",
              "\n",
              "Test: None, model=SequentialRNN(\n",
              "  (0): MultiBatchEncoder(\n",
              "    (module): AWD_LSTM(\n",
              "      (encoder): Embedding(60000, 400, padding_idx=1)\n",
              "      (encoder_dp): EmbeddingDropout(\n",
              "        (emb): Embedding(60000, 400, padding_idx=1)\n",
              "      )\n",
              "      (rnns): ModuleList(\n",
              "        (0): WeightDropout(\n",
              "          (module): LSTM(400, 1152, batch_first=True)\n",
              "        )\n",
              "        (1): WeightDropout(\n",
              "          (module): LSTM(1152, 1152, batch_first=True)\n",
              "        )\n",
              "        (2): WeightDropout(\n",
              "          (module): LSTM(1152, 400, batch_first=True)\n",
              "        )\n",
              "      )\n",
              "      (input_dp): RNNDropout()\n",
              "      (hidden_dps): ModuleList(\n",
              "        (0): RNNDropout()\n",
              "        (1): RNNDropout()\n",
              "        (2): RNNDropout()\n",
              "      )\n",
              "    )\n",
              "  )\n",
              "  (1): PoolingLinearClassifier(\n",
              "    (layers): Sequential(\n",
              "      (0): BatchNorm1d(1200, eps=1e-05, momentum=0.1, affine=True, track_running_stats=True)\n",
              "      (1): Dropout(p=0.2, inplace=False)\n",
              "      (2): Linear(in_features=1200, out_features=50, bias=True)\n",
              "      (3): ReLU(inplace=True)\n",
              "      (4): BatchNorm1d(50, eps=1e-05, momentum=0.1, affine=True, track_running_stats=True)\n",
              "      (5): Dropout(p=0.1, inplace=False)\n",
              "      (6): Linear(in_features=50, out_features=3, bias=True)\n",
              "    )\n",
              "  )\n",
              "), opt_func=functools.partial(<class 'torch.optim.adam.Adam'>, betas=(0.9, 0.99)), loss_func=FlattenedLoss of CrossEntropyLoss(), metrics=[<function accuracy at 0x7fa8d17d0378>], true_wd=True, bn_wd=True, wd=0.01, train_bn=True, path=PosixPath('.'), model_dir='models', callback_fns=[functools.partial(<class 'fastai.basic_train.Recorder'>, add_time=True, silent=False)], callbacks=[RNNTrainer\n",
              "learn: RNNLearner(data=TextClasDataBunch;\n",
              "\n",
              "Train: LabelList (14000 items)\n",
              "x: TextList\n",
              "xxbos nen xxunk vist xxunk xxunk xxunk xxunk xxunk xxunk lost xxunk xxunk j a xxunk jen xxunk xxmaj asi xxunk xxunk xxunk m xxunk j life ...,xxbos xxunk xxmaj haan yaar neha xxunk xxunk kab karega woh post xxunk xxmaj usne na sach mein photoshoot karna chahiye phir woh post karega,xxbos @rahulgandhi television media congress ke liye nhi h . xxmaj ye toh aapko pata chal hi gya hoga . xxmaj achha hoga ki xxmaj congress ke,xxbos @amitshah @narendramodi xxmaj all xxmaj india me nrc lagu kare w xxmaj kashmir se dhara ko khatam kare ham xxmaj indian ko apse yahi umid hai,xxbos @nehr_who xxunk @anjanaomkashyap xxmaj pagal hai kya ? xxmaj they xxunk ’ t real issues xxmaj mandir is important xxmaj hindu khatre mei jo hai !\n",
              "y: CategoryList\n",
              "neutral,neutral,negative,positive,neutral\n",
              "Path: .;\n",
              "\n",
              "Valid: LabelList (3000 items)\n",
              "x: TextList\n",
              "xxbos xxunk modi xxunk may samil honay par badhai xxunk har,xxbos xxunk @tajinderbagga xxunk xxunk @shehla_rashid @tajinderbagga xxmaj tu toh xxunk hai xxmaj mare h,xxbos @waglenikhil u saw caste and religion in them ... nation saw talent and trust in them ! ! .. problem is tum paida hi ulte hue the ! !,xxbos @delhipolice sir local police station pe complaint krne par bi sunwai nhi hai .. mene may xxmaj ko complaint karwai,xxbos xxmaj ve xxmaj maahi song from # xxmaj kesari is current favourite ! # xxmaj music # xxmaj melody # arijitsingh xxunk you are becoming my xxunk\n",
              "y: CategoryList\n",
              "positive,negative,negative,neutral,positive\n",
              "Path: .;\n",
              "\n",
              "Test: None, model=SequentialRNN(\n",
              "  (0): MultiBatchEncoder(\n",
              "    (module): AWD_LSTM(\n",
              "      (encoder): Embedding(60000, 400, padding_idx=1)\n",
              "      (encoder_dp): EmbeddingDropout(\n",
              "        (emb): Embedding(60000, 400, padding_idx=1)\n",
              "      )\n",
              "      (rnns): ModuleList(\n",
              "        (0): WeightDropout(\n",
              "          (module): LSTM(400, 1152, batch_first=True)\n",
              "        )\n",
              "        (1): WeightDropout(\n",
              "          (module): LSTM(1152, 1152, batch_first=True)\n",
              "        )\n",
              "        (2): WeightDropout(\n",
              "          (module): LSTM(1152, 400, batch_first=True)\n",
              "        )\n",
              "      )\n",
              "      (input_dp): RNNDropout()\n",
              "      (hidden_dps): ModuleList(\n",
              "        (0): RNNDropout()\n",
              "        (1): RNNDropout()\n",
              "        (2): RNNDropout()\n",
              "      )\n",
              "    )\n",
              "  )\n",
              "  (1): PoolingLinearClassifier(\n",
              "    (layers): Sequential(\n",
              "      (0): BatchNorm1d(1200, eps=1e-05, momentum=0.1, affine=True, track_running_stats=True)\n",
              "      (1): Dropout(p=0.2, inplace=False)\n",
              "      (2): Linear(in_features=1200, out_features=50, bias=True)\n",
              "      (3): ReLU(inplace=True)\n",
              "      (4): BatchNorm1d(50, eps=1e-05, momentum=0.1, affine=True, track_running_stats=True)\n",
              "      (5): Dropout(p=0.1, inplace=False)\n",
              "      (6): Linear(in_features=50, out_features=3, bias=True)\n",
              "    )\n",
              "  )\n",
              "), opt_func=functools.partial(<class 'torch.optim.adam.Adam'>, betas=(0.9, 0.99)), loss_func=FlattenedLoss of CrossEntropyLoss(), metrics=[<function accuracy at 0x7fa8d17d0378>], true_wd=True, bn_wd=True, wd=0.01, train_bn=True, path=PosixPath('.'), model_dir='models', callback_fns=[functools.partial(<class 'fastai.basic_train.Recorder'>, add_time=True, silent=False)], callbacks=[...], layer_groups=[Sequential(\n",
              "  (0): Embedding(60000, 400, padding_idx=1)\n",
              "  (1): EmbeddingDropout(\n",
              "    (emb): Embedding(60000, 400, padding_idx=1)\n",
              "  )\n",
              "), Sequential(\n",
              "  (0): WeightDropout(\n",
              "    (module): LSTM(400, 1152, batch_first=True)\n",
              "  )\n",
              "  (1): RNNDropout()\n",
              "), Sequential(\n",
              "  (0): WeightDropout(\n",
              "    (module): LSTM(1152, 1152, batch_first=True)\n",
              "  )\n",
              "  (1): RNNDropout()\n",
              "), Sequential(\n",
              "  (0): WeightDropout(\n",
              "    (module): LSTM(1152, 400, batch_first=True)\n",
              "  )\n",
              "  (1): RNNDropout()\n",
              "), Sequential(\n",
              "  (0): PoolingLinearClassifier(\n",
              "    (layers): Sequential(\n",
              "      (0): BatchNorm1d(1200, eps=1e-05, momentum=0.1, affine=True, track_running_stats=True)\n",
              "      (1): Dropout(p=0.2, inplace=False)\n",
              "      (2): Linear(in_features=1200, out_features=50, bias=True)\n",
              "      (3): ReLU(inplace=True)\n",
              "      (4): BatchNorm1d(50, eps=1e-05, momentum=0.1, affine=True, track_running_stats=True)\n",
              "      (5): Dropout(p=0.1, inplace=False)\n",
              "      (6): Linear(in_features=50, out_features=3, bias=True)\n",
              "    )\n",
              "  )\n",
              ")], add_time=True, silent=False)\n",
              "alpha: 2.0\n",
              "beta: 1.0, MixedPrecision\n",
              "learn: RNNLearner(data=TextClasDataBunch;\n",
              "\n",
              "Train: LabelList (14000 items)\n",
              "x: TextList\n",
              "xxbos nen xxunk vist xxunk xxunk xxunk xxunk xxunk xxunk lost xxunk xxunk j a xxunk jen xxunk xxmaj asi xxunk xxunk xxunk m xxunk j life ...,xxbos xxunk xxmaj haan yaar neha xxunk xxunk kab karega woh post xxunk xxmaj usne na sach mein photoshoot karna chahiye phir woh post karega,xxbos @rahulgandhi television media congress ke liye nhi h . xxmaj ye toh aapko pata chal hi gya hoga . xxmaj achha hoga ki xxmaj congress ke,xxbos @amitshah @narendramodi xxmaj all xxmaj india me nrc lagu kare w xxmaj kashmir se dhara ko khatam kare ham xxmaj indian ko apse yahi umid hai,xxbos @nehr_who xxunk @anjanaomkashyap xxmaj pagal hai kya ? xxmaj they xxunk ’ t real issues xxmaj mandir is important xxmaj hindu khatre mei jo hai !\n",
              "y: CategoryList\n",
              "neutral,neutral,negative,positive,neutral\n",
              "Path: .;\n",
              "\n",
              "Valid: LabelList (3000 items)\n",
              "x: TextList\n",
              "xxbos xxunk modi xxunk may samil honay par badhai xxunk har,xxbos xxunk @tajinderbagga xxunk xxunk @shehla_rashid @tajinderbagga xxmaj tu toh xxunk hai xxmaj mare h,xxbos @waglenikhil u saw caste and religion in them ... nation saw talent and trust in them ! ! .. problem is tum paida hi ulte hue the ! !,xxbos @delhipolice sir local police station pe complaint krne par bi sunwai nhi hai .. mene may xxmaj ko complaint karwai,xxbos xxmaj ve xxmaj maahi song from # xxmaj kesari is current favourite ! # xxmaj music # xxmaj melody # arijitsingh xxunk you are becoming my xxunk\n",
              "y: CategoryList\n",
              "positive,negative,negative,neutral,positive\n",
              "Path: .;\n",
              "\n",
              "Test: None, model=SequentialRNN(\n",
              "  (0): MultiBatchEncoder(\n",
              "    (module): AWD_LSTM(\n",
              "      (encoder): Embedding(60000, 400, padding_idx=1)\n",
              "      (encoder_dp): EmbeddingDropout(\n",
              "        (emb): Embedding(60000, 400, padding_idx=1)\n",
              "      )\n",
              "      (rnns): ModuleList(\n",
              "        (0): WeightDropout(\n",
              "          (module): LSTM(400, 1152, batch_first=True)\n",
              "        )\n",
              "        (1): WeightDropout(\n",
              "          (module): LSTM(1152, 1152, batch_first=True)\n",
              "        )\n",
              "        (2): WeightDropout(\n",
              "          (module): LSTM(1152, 400, batch_first=True)\n",
              "        )\n",
              "      )\n",
              "      (input_dp): RNNDropout()\n",
              "      (hidden_dps): ModuleList(\n",
              "        (0): RNNDropout()\n",
              "        (1): RNNDropout()\n",
              "        (2): RNNDropout()\n",
              "      )\n",
              "    )\n",
              "  )\n",
              "  (1): PoolingLinearClassifier(\n",
              "    (layers): Sequential(\n",
              "      (0): BatchNorm1d(1200, eps=1e-05, momentum=0.1, affine=True, track_running_stats=True)\n",
              "      (1): Dropout(p=0.2, inplace=False)\n",
              "      (2): Linear(in_features=1200, out_features=50, bias=True)\n",
              "      (3): ReLU(inplace=True)\n",
              "      (4): BatchNorm1d(50, eps=1e-05, momentum=0.1, affine=True, track_running_stats=True)\n",
              "      (5): Dropout(p=0.1, inplace=False)\n",
              "      (6): Linear(in_features=50, out_features=3, bias=True)\n",
              "    )\n",
              "  )\n",
              "), opt_func=functools.partial(<class 'torch.optim.adam.Adam'>, betas=(0.9, 0.99)), loss_func=FlattenedLoss of CrossEntropyLoss(), metrics=[<function accuracy at 0x7fa8d17d0378>], true_wd=True, bn_wd=True, wd=0.01, train_bn=True, path=PosixPath('.'), model_dir='models', callback_fns=[functools.partial(<class 'fastai.basic_train.Recorder'>, add_time=True, silent=False)], callbacks=[...], layer_groups=[Sequential(\n",
              "  (0): Embedding(60000, 400, padding_idx=1)\n",
              "  (1): EmbeddingDropout(\n",
              "    (emb): Embedding(60000, 400, padding_idx=1)\n",
              "  )\n",
              "), Sequential(\n",
              "  (0): WeightDropout(\n",
              "    (module): LSTM(400, 1152, batch_first=True)\n",
              "  )\n",
              "  (1): RNNDropout()\n",
              "), Sequential(\n",
              "  (0): WeightDropout(\n",
              "    (module): LSTM(1152, 1152, batch_first=True)\n",
              "  )\n",
              "  (1): RNNDropout()\n",
              "), Sequential(\n",
              "  (0): WeightDropout(\n",
              "    (module): LSTM(1152, 400, batch_first=True)\n",
              "  )\n",
              "  (1): RNNDropout()\n",
              "), Sequential(\n",
              "  (0): PoolingLinearClassifier(\n",
              "    (layers): Sequential(\n",
              "      (0): BatchNorm1d(1200, eps=1e-05, momentum=0.1, affine=True, track_running_stats=True)\n",
              "      (1): Dropout(p=0.2, inplace=False)\n",
              "      (2): Linear(in_features=1200, out_features=50, bias=True)\n",
              "      (3): ReLU(inplace=True)\n",
              "      (4): BatchNorm1d(50, eps=1e-05, momentum=0.1, affine=True, track_running_stats=True)\n",
              "      (5): Dropout(p=0.1, inplace=False)\n",
              "      (6): Linear(in_features=50, out_features=3, bias=True)\n",
              "    )\n",
              "  )\n",
              ")], add_time=True, silent=False)\n",
              "loss_scale: 65536\n",
              "max_noskip: 1000\n",
              "dynamic: True\n",
              "clip: None\n",
              "flat_master: False\n",
              "max_scale: 16777216\n",
              "loss_fp32: True], layer_groups=[Sequential(\n",
              "  (0): Embedding(60000, 400, padding_idx=1)\n",
              "  (1): EmbeddingDropout(\n",
              "    (emb): Embedding(60000, 400, padding_idx=1)\n",
              "  )\n",
              "), Sequential(\n",
              "  (0): WeightDropout(\n",
              "    (module): LSTM(400, 1152, batch_first=True)\n",
              "  )\n",
              "  (1): RNNDropout()\n",
              "), Sequential(\n",
              "  (0): WeightDropout(\n",
              "    (module): LSTM(1152, 1152, batch_first=True)\n",
              "  )\n",
              "  (1): RNNDropout()\n",
              "), Sequential(\n",
              "  (0): WeightDropout(\n",
              "    (module): LSTM(1152, 400, batch_first=True)\n",
              "  )\n",
              "  (1): RNNDropout()\n",
              "), Sequential(\n",
              "  (0): PoolingLinearClassifier(\n",
              "    (layers): Sequential(\n",
              "      (0): BatchNorm1d(1200, eps=1e-05, momentum=0.1, affine=True, track_running_stats=True)\n",
              "      (1): Dropout(p=0.2, inplace=False)\n",
              "      (2): Linear(in_features=1200, out_features=50, bias=True)\n",
              "      (3): ReLU(inplace=True)\n",
              "      (4): BatchNorm1d(50, eps=1e-05, momentum=0.1, affine=True, track_running_stats=True)\n",
              "      (5): Dropout(p=0.1, inplace=False)\n",
              "      (6): Linear(in_features=50, out_features=3, bias=True)\n",
              "    )\n",
              "  )\n",
              ")], add_time=True, silent=False)"
            ]
          },
          "metadata": {
            "tags": []
          },
          "execution_count": 25
        }
      ]
    },
    {
      "cell_type": "code",
      "metadata": {
        "id": "jOBRWdea9s2L",
        "colab_type": "code",
        "outputId": "1aa779da-95df-48e3-ef33-c6bc6a6affa8",
        "colab": {
          "base_uri": "https://localhost:8080/",
          "height": 408
        }
      },
      "source": [
        "learn.lr_find()\n",
        "learn.recorder.plot(suggestion=True)\n",
        "min_grad_lr = learn.recorder.min_grad_lr"
      ],
      "execution_count": 26,
      "outputs": [
        {
          "output_type": "display_data",
          "data": {
            "text/html": [
              "\n",
              "    <div>\n",
              "        <style>\n",
              "            /* Turns off some styling */\n",
              "            progress {\n",
              "                /* gets rid of default border in Firefox and Opera. */\n",
              "                border: none;\n",
              "                /* Needs to be in here for Safari polyfill so background images work as expected. */\n",
              "                background-size: auto;\n",
              "            }\n",
              "            .progress-bar-interrupted, .progress-bar-interrupted::-webkit-progress-bar {\n",
              "                background: #F44336;\n",
              "            }\n",
              "        </style>\n",
              "      <progress value='0' class='' max='1', style='width:300px; height:20px; vertical-align: middle;'></progress>\n",
              "      0.00% [0/1 00:00<00:00]\n",
              "    </div>\n",
              "    \n",
              "<table border=\"1\" class=\"dataframe\">\n",
              "  <thead>\n",
              "    <tr style=\"text-align: left;\">\n",
              "      <th>epoch</th>\n",
              "      <th>train_loss</th>\n",
              "      <th>valid_loss</th>\n",
              "      <th>accuracy</th>\n",
              "      <th>time</th>\n",
              "    </tr>\n",
              "  </thead>\n",
              "  <tbody>\n",
              "  </tbody>\n",
              "</table><p>\n",
              "\n",
              "    <div>\n",
              "        <style>\n",
              "            /* Turns off some styling */\n",
              "            progress {\n",
              "                /* gets rid of default border in Firefox and Opera. */\n",
              "                border: none;\n",
              "                /* Needs to be in here for Safari polyfill so background images work as expected. */\n",
              "                background-size: auto;\n",
              "            }\n",
              "            .progress-bar-interrupted, .progress-bar-interrupted::-webkit-progress-bar {\n",
              "                background: #F44336;\n",
              "            }\n",
              "        </style>\n",
              "      <progress value='89' class='' max='437', style='width:300px; height:20px; vertical-align: middle;'></progress>\n",
              "      20.37% [89/437 00:01<00:06 1.1848]\n",
              "    </div>\n",
              "    "
            ],
            "text/plain": [
              "<IPython.core.display.HTML object>"
            ]
          },
          "metadata": {
            "tags": []
          }
        },
        {
          "output_type": "stream",
          "text": [
            "LR Finder is complete, type {learner_name}.recorder.plot() to see the graph.\n",
            "Min numerical gradient: 2.51E-03\n",
            "Min loss divided by 10: 2.29E-03\n"
          ],
          "name": "stdout"
        },
        {
          "output_type": "display_data",
          "data": {
            "image/png": "[encoded data removed]",
            "text/plain": [
              "<Figure size 432x288 with 1 Axes>"
            ]
          },
          "metadata": {
            "tags": []
          }
        }
      ]
    },
    {
      "cell_type": "code",
      "metadata": {
        "id": "3H7e89ab9u9K",
        "colab_type": "code",
        "outputId": "a807ddd6-47bd-4e58-f4de-06eb2721dba4",
        "colab": {
          "base_uri": "https://localhost:8080/",
          "height": 106
        }
      },
      "source": [
        "learn.fit_one_cycle(2, min_grad_lr)"
      ],
      "execution_count": 27,
      "outputs": [
        {
          "output_type": "display_data",
          "data": {
            "text/html": [
              "<table border=\"1\" class=\"dataframe\">\n",
              "  <thead>\n",
              "    <tr style=\"text-align: left;\">\n",
              "      <th>epoch</th>\n",
              "      <th>train_loss</th>\n",
              "      <th>valid_loss</th>\n",
              "      <th>accuracy</th>\n",
              "      <th>time</th>\n",
              "    </tr>\n",
              "  </thead>\n",
              "  <tbody>\n",
              "    <tr>\n",
              "      <td>0</td>\n",
              "      <td>0.928537</td>\n",
              "      <td>0.890973</td>\n",
              "      <td>0.560000</td>\n",
              "      <td>00:06</td>\n",
              "    </tr>\n",
              "    <tr>\n",
              "      <td>1</td>\n",
              "      <td>0.897036</td>\n",
              "      <td>0.884705</td>\n",
              "      <td>0.560667</td>\n",
              "      <td>00:06</td>\n",
              "    </tr>\n",
              "  </tbody>\n",
              "</table>"
            ],
            "text/plain": [
              "<IPython.core.display.HTML object>"
            ]
          },
          "metadata": {
            "tags": []
          }
        }
      ]
    },
    {
      "cell_type": "code",
      "metadata": {
        "id": "U3AjT6C89yCU",
        "colab_type": "code",
        "outputId": "2b4fc22a-dadc-4868-a14f-a152c0a85a86",
        "colab": {
          "base_uri": "https://localhost:8080/",
          "height": 279
        }
      },
      "source": [
        "learn.recorder.plot_losses()"
      ],
      "execution_count": 28,
      "outputs": [
        {
          "output_type": "display_data",
          "data": {
            "image/png": "[encoded data removed]",
            "text/plain": [
              "<Figure size 432x288 with 1 Axes>"
            ]
          },
          "metadata": {
            "tags": []
          }
        }
      ]
    },
    {
      "cell_type": "code",
      "metadata": {
        "id": "cXzFnXvR91b8",
        "colab_type": "code",
        "outputId": "ad6d9fd2-049c-4090-f5e5-0367714127f3",
        "colab": {
          "base_uri": "https://localhost:8080/",
          "height": 166
        }
      },
      "source": [
        "learn.freeze_to(-2)\n",
        "learn.fit_one_cycle(4, slice(5e-3, 2e-3), moms=(0.8,0.7))"
      ],
      "execution_count": 29,
      "outputs": [
        {
          "output_type": "display_data",
          "data": {
            "text/html": [
              "<table border=\"1\" class=\"dataframe\">\n",
              "  <thead>\n",
              "    <tr style=\"text-align: left;\">\n",
              "      <th>epoch</th>\n",
              "      <th>train_loss</th>\n",
              "      <th>valid_loss</th>\n",
              "      <th>accuracy</th>\n",
              "      <th>time</th>\n",
              "    </tr>\n",
              "  </thead>\n",
              "  <tbody>\n",
              "    <tr>\n",
              "      <td>0</td>\n",
              "      <td>0.889056</td>\n",
              "      <td>0.897465</td>\n",
              "      <td>0.564667</td>\n",
              "      <td>00:07</td>\n",
              "    </tr>\n",
              "    <tr>\n",
              "      <td>1</td>\n",
              "      <td>0.893292</td>\n",
              "      <td>0.875179</td>\n",
              "      <td>0.572000</td>\n",
              "      <td>00:08</td>\n",
              "    </tr>\n",
              "    <tr>\n",
              "      <td>2</td>\n",
              "      <td>0.845467</td>\n",
              "      <td>0.860043</td>\n",
              "      <td>0.582333</td>\n",
              "      <td>00:07</td>\n",
              "    </tr>\n",
              "    <tr>\n",
              "      <td>3</td>\n",
              "      <td>0.820952</td>\n",
              "      <td>0.856143</td>\n",
              "      <td>0.584000</td>\n",
              "      <td>00:07</td>\n",
              "    </tr>\n",
              "  </tbody>\n",
              "</table>"
            ],
            "text/plain": [
              "<IPython.core.display.HTML object>"
            ]
          },
          "metadata": {
            "tags": []
          }
        }
      ]
    },
    {
      "cell_type": "code",
      "metadata": {
        "id": "17tFKFBW95md",
        "colab_type": "code",
        "outputId": "d4882b27-2573-413b-e213-3bceb45a1064",
        "colab": {
          "base_uri": "https://localhost:8080/",
          "height": 279
        }
      },
      "source": [
        "learn.recorder.plot_losses()"
      ],
      "execution_count": 30,
      "outputs": [
        {
          "output_type": "display_data",
          "data": {
            "image/png": "[encoded data removed]",
            "text/plain": [
              "<Figure size 432x288 with 1 Axes>"
            ]
          },
          "metadata": {
            "tags": []
          }
        }
      ]
    },
    {
      "cell_type": "markdown",
      "metadata": {
        "id": "XUf_GA3bXIEn",
        "colab_type": "text"
      },
      "source": [
        "## 5. Analyzing our results"
      ]
    },
    {
      "cell_type": "code",
      "metadata": {
        "id": "INCp-Ozi-BfK",
        "colab_type": "code",
        "outputId": "e9f5f267-3e66-434c-bed3-353388233061",
        "colab": {
          "base_uri": "https://localhost:8080/",
          "height": 311
        }
      },
      "source": [
        "preds,y,losses = learn.get_preds(with_loss=True)\n",
        "interp = ClassificationInterpretation(learn, preds, y, losses)\n",
        "interp.plot_confusion_matrix()"
      ],
      "execution_count": 31,
      "outputs": [
        {
          "output_type": "display_data",
          "data": {
            "text/html": [
              ""
            ],
            "text/plain": [
              "<IPython.core.display.HTML object>"
            ]
          },
          "metadata": {
            "tags": []
          }
        },
        {
          "output_type": "display_data",
          "data": {
            "image/png": "[encoded data removed]",
            "text/plain": [
              "<Figure size 432x288 with 1 Axes>"
            ]
          },
          "metadata": {
            "tags": []
          }
        }
      ]
    },
    {
      "cell_type": "code",
      "metadata": {
        "id": "Etgy39mH-ED-",
        "colab_type": "code",
        "outputId": "559c33ac-c024-41c3-f39f-3b0b0a699c7b",
        "colab": {
          "base_uri": "https://localhost:8080/",
          "height": 118
        }
      },
      "source": [
        "interp.most_confused()"
      ],
      "execution_count": 32,
      "outputs": [
        {
          "output_type": "execute_result",
          "data": {
            "text/plain": [
              "[('neutral', 'negative', 313),\n",
              " ('positive', 'neutral', 287),\n",
              " ('negative', 'neutral', 272),\n",
              " ('neutral', 'positive', 239),\n",
              " ('positive', 'negative', 87),\n",
              " ('negative', 'positive', 50)]"
            ]
          },
          "metadata": {
            "tags": []
          },
          "execution_count": 32
        }
      ]
    },
    {
      "cell_type": "markdown",
      "metadata": {
        "id": "0otTxIuBXOvi",
        "colab_type": "text"
      },
      "source": [
        "## 6. Predictions"
      ]
    },
    {
      "cell_type": "code",
      "metadata": {
        "id": "yGtVxuVh-JFT",
        "colab_type": "code",
        "outputId": "6d34e86b-b020-42a9-bd80-05e55048ddc2",
        "colab": {
          "base_uri": "https://localhost:8080/",
          "height": 34
        }
      },
      "source": [
        "learn.predict(\"bhai Meri taraf se Best wishes di jye ga apnay bhai ko \")"
      ],
      "execution_count": 49,
      "outputs": [
        {
          "output_type": "execute_result",
          "data": {
            "text/plain": [
              "(Category positive, tensor(2), tensor([0.0327, 0.2002, 0.7671]))"
            ]
          },
          "metadata": {
            "tags": []
          },
          "execution_count": 49
        }
      ]
    },
    {
      "cell_type": "markdown",
      "metadata": {
        "id": "aeRURqcqXUJY",
        "colab_type": "text"
      },
      "source": [
        "## 7. Export the model"
      ]
    },
    {
      "cell_type": "code",
      "metadata": {
        "id": "EFIPJelMih7z",
        "colab_type": "code",
        "colab": {}
      },
      "source": [
        "save_path = \"/content/SemEval_weights_data/models/classifier.pth\"\n",
        "learn.export(save_path)"
      ],
      "execution_count": 0,
      "outputs": []
    },
    {
      "cell_type": "code",
      "metadata": {
        "id": "v-9zX8dkY8JB",
        "colab_type": "code",
        "colab": {
          "base_uri": "https://localhost:8080/",
          "height": 205
        },
        "outputId": "3bc92947-be5a-4812-d1b8-71a41d2a0fb5"
      },
      "source": [
        "df_trn.text.values"
      ],
      "execution_count": 165,
      "outputs": [
        {
          "output_type": "execute_result",
          "data": {
            "text/plain": [
              "array(['nen á vist bolest vztek smutek zmatek osam ě lost beznad ě j a nakonec jen klid Asi takhle vypad á m ů j life ...',\n",
              "       '@nehantics Haan yaar neha pensive_face pensive_face kab karega woh post loudly_crying_face Usne na sach mein photoshoot karna chahiye phir woh post karega ',\n",
              "       '@RahulGandhi television media congress ke liye nhi h . Ye toh aapko pata chal hi gya hoga . Achha hoga ki Congress ke ',\n",
              "       '@AmitShah @narendramodi All India me nrc lagu kare w Kashmir se dhara ko khatam kare ham Indian ko apse yahi umid hai',\n",
              "       ...,\n",
              "       \"so i couldn't get no one to cover me for my birthday / but im going to open that day so i mean i guess it's okkk\",\n",
              "       'RT @theskindoctor @NajimKhan Aap logo ki baat nahi kar raha Najim bhai Media walo ki kar raha hu jo bina janche parkhe one sided news ',\n",
              "       '@PriyaVerma __ @ashutoshB Jay Jay Shree Ram ram rajye aaya he danavo rakshasho chudelno or surpankha ke gharoke sa ',\n",
              "       '@kanpuriya_Mujhe to bhayankar ho gaya hai slightly_smiling_face shayad ab mai sahi aur galat bhi samajhna nahi chahta .... Mujhe kisi '],\n",
              "      dtype=object)"
            ]
          },
          "metadata": {
            "tags": []
          },
          "execution_count": 165
        }
      ]
    },
    {
      "cell_type": "markdown",
      "metadata": {
        "id": "VJyNzVslOJu6",
        "colab_type": "text"
      },
      "source": [
        "# Stacking"
      ]
    },
    {
      "cell_type": "markdown",
      "metadata": {
        "id": "ZApVfcF_iFYj",
        "colab_type": "text"
      },
      "source": [
        "## Fastai predictions"
      ]
    },
    {
      "cell_type": "code",
      "metadata": {
        "id": "rtEB4yNqQEVQ",
        "colab_type": "code",
        "colab": {
          "base_uri": "https://localhost:8080/",
          "height": 196
        },
        "outputId": "5931aa62-9e04-4796-a7d6-8c3d23e0b078"
      },
      "source": [
        "fastai_preds_train = [[learn.predict([x])[1].tolist()] for x in df_trn.text]\n",
        "fastai_preds_test = learn.get_preds()[1].numpy().reshape(-1,1)\n",
        "fastai_preds_train[:10]"
      ],
      "execution_count": 191,
      "outputs": [
        {
          "output_type": "display_data",
          "data": {
            "text/html": [
              ""
            ],
            "text/plain": [
              "<IPython.core.display.HTML object>"
            ]
          },
          "metadata": {
            "tags": []
          }
        },
        {
          "output_type": "error",
          "ename": "AttributeError",
          "evalue": "ignored",
          "traceback": [
            "\u001b[0;31m---------------------------------------------------------------------------\u001b[0m",
            "\u001b[0;31mAttributeError\u001b[0m                            Traceback (most recent call last)",
            "\u001b[0;32m<ipython-input-191-d7fc09867a6c>\u001b[0m in \u001b[0;36m<module>\u001b[0;34m()\u001b[0m\n\u001b[1;32m      1\u001b[0m \u001b[0mfastai_preds_train\u001b[0m \u001b[0;34m=\u001b[0m \u001b[0;34m[\u001b[0m\u001b[0;34m[\u001b[0m\u001b[0mlearn\u001b[0m\u001b[0;34m.\u001b[0m\u001b[0mpredict\u001b[0m\u001b[0;34m(\u001b[0m\u001b[0;34m[\u001b[0m\u001b[0mx\u001b[0m\u001b[0;34m]\u001b[0m\u001b[0;34m)\u001b[0m\u001b[0;34m[\u001b[0m\u001b[0;36m1\u001b[0m\u001b[0;34m]\u001b[0m\u001b[0;34m.\u001b[0m\u001b[0mtolist\u001b[0m\u001b[0;34m(\u001b[0m\u001b[0;34m)\u001b[0m\u001b[0;34m]\u001b[0m \u001b[0;32mfor\u001b[0m \u001b[0mx\u001b[0m \u001b[0;32min\u001b[0m \u001b[0mdf_trn\u001b[0m\u001b[0;34m.\u001b[0m\u001b[0mtext\u001b[0m\u001b[0;34m]\u001b[0m\u001b[0;34m\u001b[0m\u001b[0;34m\u001b[0m\u001b[0m\n\u001b[1;32m      2\u001b[0m \u001b[0mfastai_preds_test\u001b[0m \u001b[0;34m=\u001b[0m \u001b[0mlearn\u001b[0m\u001b[0;34m.\u001b[0m\u001b[0mget_preds\u001b[0m\u001b[0;34m(\u001b[0m\u001b[0;34m)\u001b[0m\u001b[0;34m[\u001b[0m\u001b[0;36m1\u001b[0m\u001b[0;34m]\u001b[0m\u001b[0;34m.\u001b[0m\u001b[0mnumpy\u001b[0m\u001b[0;34m(\u001b[0m\u001b[0;34m)\u001b[0m\u001b[0;34m.\u001b[0m\u001b[0mreshape\u001b[0m\u001b[0;34m(\u001b[0m\u001b[0;34m-\u001b[0m\u001b[0;36m1\u001b[0m\u001b[0;34m,\u001b[0m\u001b[0;36m1\u001b[0m\u001b[0;34m)\u001b[0m\u001b[0;34m\u001b[0m\u001b[0;34m\u001b[0m\u001b[0m\n\u001b[0;32m----> 3\u001b[0;31m \u001b[0mfastai_preds_train\u001b[0m\u001b[0;34m.\u001b[0m\u001b[0mshape\u001b[0m\u001b[0;34m\u001b[0m\u001b[0;34m\u001b[0m\u001b[0m\n\u001b[0m",
            "\u001b[0;31mAttributeError\u001b[0m: 'list' object has no attribute 'shape'"
          ]
        }
      ]
    },
    {
      "cell_type": "code",
      "metadata": {
        "id": "fG0l5Sp-Nvfp",
        "colab_type": "code",
        "colab": {}
      },
      "source": [
        "import os, re, time\n",
        "from collections import Counter\n",
        "from os.path import join as joinpath\n",
        "# from tqdm import tqdm\n",
        "# tqdm.pandas()\n",
        "\n",
        "from sklearn.feature_extraction.text import CountVectorizer, TfidfVectorizer\n",
        "from sklearn.model_selection import train_test_split\n",
        "from sklearn.naive_bayes import BernoulliNB, MultinomialNB\n",
        "from sklearn.metrics import accuracy_score\n",
        "\n",
        "from sklearn.ensemble import RandomForestClassifier\n",
        "from sklearn.svm import SVC\n",
        "from sklearn.linear_model import SGDClassifier\n",
        "\n",
        "from bs4 import BeautifulSoup\n",
        "import pandas as pd\n",
        "import numpy as np\n",
        "import matplotlib\n",
        "%matplotlib inline\n",
        "\n",
        "pd.options.display.max_rows = 1000"
      ],
      "execution_count": 0,
      "outputs": []
    },
    {
      "cell_type": "markdown",
      "metadata": {
        "id": "-PuyL00HiKu9",
        "colab_type": "text"
      },
      "source": [
        "## Classical 1 predictions"
      ]
    },
    {
      "cell_type": "code",
      "metadata": {
        "id": "ZOaS6Qb-Oii8",
        "colab_type": "code",
        "colab": {
          "base_uri": "https://localhost:8080/",
          "height": 34
        },
        "outputId": "637090b1-54da-4d0c-c5f7-2a4964cde57d"
      },
      "source": [
        "# vec = CountVectorizer(min_df=10, max_df=1., analyzer='word', ngram_range=(1, 1), stop_words='english') \n",
        "vec = TfidfVectorizer(min_df=10, max_df=1., analyzer='word', ngram_range=(1, 1), stop_words='english') \n",
        "X_train = vec.fit_transform(df_trn['text'].values)\n",
        "X_test = vec.transform(df_val['text'].values)\n",
        "\n",
        "y_train = df_trn['label'].values\n",
        "y_test = df_val['label'].values\n",
        "\n",
        "optimal_alpha = .1\n",
        "\n",
        "# classifier = BernoulliNB(alpha=optimal_alpha)\n",
        "# classifier = MultinomialNB(alpha=optimal_alpha) #59.4\n",
        "\n",
        "# classifier = RandomForestClassifier(n_estimators=40, min_samples_split=2, random_state=0, n_jobs=4) #58\n",
        "# classifier = SGDClassifier(max_iter=1000) #59.6\n",
        "classifier = SVC(kernel='rbf', random_state=0) #60.7\n",
        "\n",
        "# fitting the model\n",
        "classifier.fit(X_train, y_train)\n",
        "\n",
        "# predict the response\n",
        "pred = classifier.predict(X_test)\n",
        "\n",
        "# evaluate accuracy\n",
        "acc = accuracy_score(y_test, pred) * 100\n",
        "print(f'Accuracy: {acc}')"
      ],
      "execution_count": 224,
      "outputs": [
        {
          "output_type": "stream",
          "text": [
            "Accuracy: 60.6\n"
          ],
          "name": "stdout"
        }
      ]
    },
    {
      "cell_type": "code",
      "metadata": {
        "id": "P-mnULD-T51-",
        "colab_type": "code",
        "colab": {
          "base_uri": "https://localhost:8080/",
          "height": 168
        },
        "outputId": "567f1863-64c2-4d45-d27a-c7175313c104"
      },
      "source": [
        "# classical1_pred_train = classifier.predict_proba(X_train).argmax(axis=1).reshape(-1,1)\n",
        "# classical1_pred_test = classifier.predict_proba(X_test).argmax(axis=1).reshape(-1,1)\n",
        "# classical1_pred_train\n",
        "\n",
        "classical1_pred_train = classifier.decision_function(X_train).argmax(axis=1).reshape(-1,1)\n",
        "classical1_pred_test = classifier.decision_function(X_test).argmax(axis=1).reshape(-1,1)\n",
        "classical1_pred_train"
      ],
      "execution_count": 226,
      "outputs": [
        {
          "output_type": "execute_result",
          "data": {
            "text/plain": [
              "array([[1],\n",
              "       [1],\n",
              "       [1],\n",
              "       [2],\n",
              "       ...,\n",
              "       [2],\n",
              "       [1],\n",
              "       [2],\n",
              "       [1]])"
            ]
          },
          "metadata": {
            "tags": []
          },
          "execution_count": 226
        }
      ]
    },
    {
      "cell_type": "markdown",
      "metadata": {
        "id": "nMl6IVHliQRZ",
        "colab_type": "text"
      },
      "source": [
        "## Classical 2 predictions"
      ]
    },
    {
      "cell_type": "code",
      "metadata": {
        "id": "sFmmYWvFTvVQ",
        "colab_type": "code",
        "colab": {
          "base_uri": "https://localhost:8080/",
          "height": 34
        },
        "outputId": "1332e0ff-5f63-4427-9b7c-66b71df67ca8"
      },
      "source": [
        "vec = CountVectorizer(min_df=10, max_df=1., analyzer='word', ngram_range=(1, 1), stop_words='english') \n",
        "# vec = TfidfVectorizer(min_df=1, max_df=1., analyzer='word', ngram_range=(1, 1), stop_words='english') \n",
        "X_train = vec.fit_transform(df_trn['text'].values)\n",
        "X_test = vec.transform(df_val['text'].values)\n",
        "\n",
        "y_train = df_trn['label'].values\n",
        "y_test = df_val['label'].values\n",
        "\n",
        "optimal_alpha = .1\n",
        "\n",
        "# classifier = BernoulliNB(alpha=optimal_alpha)\n",
        "# classifier = MultinomialNB(alpha=optimal_alpha) #59.4\n",
        "\n",
        "classifier = RandomForestClassifier(n_estimators=40, min_samples_split=5, random_state=0, n_jobs=4) #58\n",
        "# classifier = SGDClassifier(max_iter=1000) #59.6\n",
        "# classifier = SVC(kernel='rbf', random_state=0) #60.7\n",
        "\n",
        "# fitting the model\n",
        "classifier.fit(X_train, y_train)\n",
        "\n",
        "# predict the response\n",
        "pred = classifier.predict(X_test)\n",
        "\n",
        "# evaluate accuracy\n",
        "acc = accuracy_score(y_test, pred) * 100\n",
        "print(f'Accuracy: {acc}')"
      ],
      "execution_count": 231,
      "outputs": [
        {
          "output_type": "stream",
          "text": [
            "Accuracy: 59.233333333333334\n"
          ],
          "name": "stdout"
        }
      ]
    },
    {
      "cell_type": "code",
      "metadata": {
        "id": "79-HEm86OoLg",
        "colab_type": "code",
        "colab": {
          "base_uri": "https://localhost:8080/",
          "height": 168
        },
        "outputId": "09ceced3-a9f3-4f84-ceeb-31a93ba34866"
      },
      "source": [
        "classical2_pred_train = classifier.predict_proba(X_train).argmax(axis=1).reshape(-1,1)\n",
        "classical2_pred_test = classifier.predict_proba(X_test).argmax(axis=1).reshape(-1,1)\n",
        "classical2_pred_train"
      ],
      "execution_count": 232,
      "outputs": [
        {
          "output_type": "execute_result",
          "data": {
            "text/plain": [
              "array([[1],\n",
              "       [1],\n",
              "       [1],\n",
              "       [2],\n",
              "       ...,\n",
              "       [2],\n",
              "       [2],\n",
              "       [2],\n",
              "       [1]])"
            ]
          },
          "metadata": {
            "tags": []
          },
          "execution_count": 232
        }
      ]
    },
    {
      "cell_type": "markdown",
      "metadata": {
        "id": "TnZzro0OiXyV",
        "colab_type": "text"
      },
      "source": [
        "## Stacked predictions"
      ]
    },
    {
      "cell_type": "code",
      "metadata": {
        "id": "g7g5k7wSPkfj",
        "colab_type": "code",
        "colab": {
          "base_uri": "https://localhost:8080/",
          "height": 34
        },
        "outputId": "6bba6b9b-c241-4ac6-c30c-e057ac98ffb0"
      },
      "source": [
        "X_train = np.hstack([fastai_preds_train, classical1_pred_train, classical2_pred_train])\n",
        "X_test = np.hstack([fastai_preds_test, classical1_pred_test, classical2_pred_test])\n",
        "y_train = df_trn['label']\n",
        "y_test = df_val['label']\n",
        "\n",
        "X_train.shape, X_test.shape"
      ],
      "execution_count": 233,
      "outputs": [
        {
          "output_type": "execute_result",
          "data": {
            "text/plain": [
              "((14000, 3), (3000, 3))"
            ]
          },
          "metadata": {
            "tags": []
          },
          "execution_count": 233
        }
      ]
    },
    {
      "cell_type": "code",
      "metadata": {
        "id": "l6U1vbwqO9wM",
        "colab_type": "code",
        "colab": {
          "base_uri": "https://localhost:8080/",
          "height": 34
        },
        "outputId": "af133c0e-2050-4560-87bf-af6a3c2c271e"
      },
      "source": [
        "from sklearn.linear_model import LogisticRegression\n",
        "\n",
        "# from sklearn.model_selection import train_test_split\n",
        "\n",
        "# X_train, X_test, y_train, y_test = train_test_split(X, df_val['label'], test_size = 0.1, random_state=0)\n",
        "\n",
        "optimal_alpha = .1\n",
        "\n",
        "# classifier = BernoulliNB(alpha=optimal_alpha)\n",
        "# classifier = MultinomialNB(alpha=optimal_alpha) #59.4\n",
        "\n",
        "# classifier = RandomForestClassifier(n_estimators=50, min_samples_split=10, random_state=0, n_jobs=4) #58\n",
        "# classifier = SGDClassifier(max_iter=1000) #59.6\n",
        "classifier = SVC(kernel='rbf', random_state=0) #60.7\n",
        "# classifier = LogisticRegression(random_state=0, n_jobs=4)\n",
        "\n",
        "# fitting the model\n",
        "classifier.fit(X_train, y_train)\n",
        "\n",
        "# predict the response\n",
        "pred = classifier.predict(X_test)\n",
        "\n",
        "# evaluate accuracy\n",
        "acc = accuracy_score(y_test, pred) * 100\n",
        "print(f'Accuracy: {acc}')"
      ],
      "execution_count": 235,
      "outputs": [
        {
          "output_type": "stream",
          "text": [
            "Accuracy: 59.233333333333334\n"
          ],
          "name": "stdout"
        }
      ]
    },
    {
      "cell_type": "code",
      "metadata": {
        "id": "6tHLaTv4QUcL",
        "colab_type": "code",
        "colab": {}
      },
      "source": [
        ""
      ],
      "execution_count": 0,
      "outputs": []
    }
  ]
}